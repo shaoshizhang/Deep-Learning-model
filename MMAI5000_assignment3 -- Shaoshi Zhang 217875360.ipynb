{
  "nbformat": 4,
  "nbformat_minor": 0,
  "metadata": {
    "kernelspec": {
      "display_name": "Python 3",
      "language": "python",
      "name": "python3"
    },
    "language_info": {
      "codemirror_mode": {
        "name": "ipython",
        "version": 3
      },
      "file_extension": ".py",
      "mimetype": "text/x-python",
      "name": "python",
      "nbconvert_exporter": "python",
      "pygments_lexer": "ipython3",
      "version": "3.8.5"
    },
    "colab": {
      "name": "MMAI5000_assignment3 -- Shaoshi Zhang 217875360.ipynb",
      "provenance": [],
      "collapsed_sections": [],
      "toc_visible": true
    }
  },
  "cells": [
    {
      "cell_type": "markdown",
      "metadata": {
        "id": "_ygZgZ0_yTLi"
      },
      "source": [
        "# AI Fundamentals - Assignment 3\n",
        "\n",
        "This assignment requires you to use [Tensorflow](https://www.tensorflow.org) and [Keras](https://keras.io/). Keras is a high-level Deep Learning API written in Python working as an interface to TensorFlow.\n",
        "\n",
        "This assignment is divided in two parts. In the first part you will learn about Keras with the help of the example below and the Keras [documentation](https://keras.io/). In the second part, you will practise training a Deep Learning model.\n",
        "\n",
        "## How to submit\n",
        "Submit by uploading this notebook to Canvas. It should include **plots**, **results** and **code** showing how the results were genereated.  Remember to name your file(s) appropriately.\n",
        "It is due on 11:59 of December 9, 2020.\n",
        "\n",
        "## Installation\n",
        "Instructions can be found here:\n",
        "* [Tensorflow](https://www.tensorflow.org/install/)\n",
        "\n",
        "Since Tensorflow 2.0, Keras is included in Tensorflow and will be automatically installed with Tensorflow. It can be accessed as ```tensorflow.keras```\n",
        "\n",
        "I recommend using ```pip```. For Tensorflow is it sufficient to install the CPU version. The GPU version requires a good workstation with high-end Nvidia GPU(s), and it is not necessary for this tutorial.\n",
        "\n",
        "If you're using a virtualenv:\n",
        "```\n",
        "pip3 install tensorflow\n",
        "```\n",
        "Add ```sudo``` for a systemwide installation (i.e. no ```virtualenv```).\n",
        "```\n",
        "sudo pip3 install tensorflow\n",
        "```\n",
        "Make sure that you have ```sklearn```, ```matplotlib``` and ```numpy``` installed, too.\n",
        "\n",
        "\n",
        "## Part 1 - understand a model\n",
        "\n",
        "### Optimizers\n",
        "\n",
        "Loss is the penalty for a bad prediction. That is, loss is a number indicating how bad the model's prediction was on a single example. If the model's prediction is perfect, the loss is zero; otherwise, the loss is greater than zero. The goal of training a model is to find a set of weights and biases (i.e. parameters) that have, on average, a low loss across all examples. The term cost is used interchangably with loss. See the [loss section](https://keras.io/losses/) in the Keras documentation for a list and descriptions of what is available.\n",
        "\n",
        "![Side by side loss](https://drive.google.com/uc?id=1DdbQEQLCLCSw4uPsuf0C1nJCfUICT0Ae)\n",
        "<b>Figure 1.</b> Left: high loss and right: low loss.\n",
        "\n",
        "<!-- https://drive.google.com/file/d/1DdbQEQLCLCSw4uPsuf0C1nJCfUICT0Ae/view?usp=sharing\n",
        "<img src=\"./fig/LossSideBySide.png\" width=\"500\">\n",
        "<figcaption>Figure. Left: high loss and right: low loss.</figcaption>\n",
        " -->\n",
        "The optimizer is the algorithm used to minimize the loss/cost. Optimizers in neural networks work by finding the gradient/derivative of the loss with respect to the parameters (i.e. the weights). \"Gradient\" is the correct term since a we are looking at multi-dimensional systems (i.e. many parameters), however, the terms are often used interchangably. For those who didn't take multivariate calculus, just think of the gradient as a derivative. The derivative of the loss with respect to a parameters tells us how much the loss changes when we nudge a weight up or down. So, by knowing how a given parameter affects the loss the optimizer can change it so as to decrease the loss. The various optimizers differ in how they change the weights. \n",
        "\n",
        "#### Mini-overview over popular optimizers\n",
        "\n",
        "* **Stochastic Gradient Descent (SGD)**. This is the most basic and easy to understand optimizer. It updates the weights in the negative direction of the gradient by taking the average gradient of mini-batch of data (e.g. 20-1000 examples) in each step. Vanilla SGD only has one hyper-parameter, the learning rate.\n",
        "* **Momentum**. This optimizer \"gains speed\" when the gradient has pointed in the same direction for several consecutive updates. That is, it has a momentum and want to keep moving in that direction. It gains momentum by accumulating an exponentially decaying moving average of past gradients. The step size depends on how large and aligned the sequence of gradients are. The most important hyper-parameter is alpha and common values are 0.5 and 0.9.\n",
        "* **Nesterov Momentum**. This is a modification of the standard momentum optimizer.\n",
        "* **AdaGrad**. This optimizer Ada-ptively sets the learning rate depending on the steepness/magnitude of the Grad-ients. This is done so that weights with big gradients get a smaller effective learning rate, and weights with small gradients will get a greater effective learning rate. The result is quicker progress in the more gently sloped directions of the weight space and a slowdown in stepp regions.\n",
        "* **RMSProp**. This is modification of AdaGrad, where the accumulated gradient decays, that is, the influence of previous gradients gradually decreases.\n",
        "* **Adam**. The name comes from \"adaptive moments\", and it is a combination of RMSProp and momentum. It has several hyper-parameters.\n",
        "\n",
        "The above list just gives a quick overview of some of the most common. However, old optimizers are constantly improved and new are developed. SGD and momentum are most basic and easiest to understand and implement. They are still in use, but the more advanced optimizers tend to be better for practical use. Which one to use is generally an emperical question depending on both the data and the model.\n",
        "\n",
        "For a more complete overview of optimization algorithms see [this comparison](http://ruder.io/optimizing-gradient-descent/), and to see what is available in Keras, see the [optimizer section](https://keras.io/optimizers/) of the documentation.\n",
        "\n",
        "See the images below for a comparison of optimizers in a 2D space (NAG: Nesterov accelerated gradient, Adadelta: an extension of AdaGrad).\n",
        "\n",
        "![Contours - optimizer comparison](https://drive.google.com/uc?id=1CmrD-UPZ7EIUjRuO_ib7k9CL1FO2bbLk)\n",
        "<b>Figure 2.</b> Comparison of six different optimizers.\n",
        "\n",
        "\n",
        "![Saddle point - optimizer comparison](https://drive.google.com/uc?id=1QVhN9rAvCjXtGyNZkmFivyyCzNsntObh)\n",
        "<b>Figure 3.</b> Comparison of six different optimizers at a saddle point.\n",
        "\n",
        "<!-- <img src=\"./fig/contours_evaluation_optimizers.gif\" width=\"500\">\n",
        "<img src=\"./fig/saddle_point_evaluation_optimizers.gif\" width=\"500\"> -->"
      ]
    },
    {
      "cell_type": "code",
      "metadata": {
        "id": "9PBB2nJhyTLj"
      },
      "source": [
        "# imports\n",
        "import numpy as np\n",
        "from sklearn.datasets import fetch_openml\n",
        "from sklearn.model_selection import train_test_split\n",
        "import matplotlib.pyplot as plt\n",
        "# for the random seed\n",
        "import tensorflow as tf\n",
        "\n",
        "# set the random seeds to get reproducible results\n",
        "np.random.seed(1)\n",
        "tf.random.set_seed(2)\n",
        "\n",
        "# Load data from https://www.openml.org/d/554\n",
        "X, y = fetch_openml('mnist_784', version=1, return_X_y=True)\n",
        "X, y = X[:1000], y[:1000]\n",
        "X = X.reshape(X.shape[0], 28, 28, 1)\n",
        "# Normalize\n",
        "X = X / 255.\n",
        "# number of unique classes\n",
        "num_classes = len(np.unique(y))\n",
        "y = y.astype(int)\n",
        "\n",
        "X_train, X_test, y_train, y_test = train_test_split(X, y, test_size=.2, random_state=1)\n",
        "\n",
        "num_tot = y.shape[0]\n",
        "num_train = y_train.shape[0]\n",
        "num_test = y_test.shape[0]\n",
        "\n",
        "y_oh = np.zeros((num_tot, num_classes))\n",
        "y_oh[range(num_tot), y] = 1\n",
        "\n",
        "y_oh_train = np.zeros((num_train, num_classes))\n",
        "y_oh_train[range(num_train), y_train] = 1\n",
        "\n",
        "y_oh_test = np.zeros((num_test, num_classes))\n",
        "y_oh_test[range(num_test), y_test] = 1"
      ],
      "execution_count": 2,
      "outputs": []
    },
    {
      "cell_type": "code",
      "metadata": {
        "colab": {
          "base_uri": "https://localhost:8080/"
        },
        "id": "TivQcmLgKP29",
        "outputId": "ca10e0fa-a3e5-4418-dbb1-6b08958f8eae"
      },
      "source": [
        "type(X)"
      ],
      "execution_count": 3,
      "outputs": [
        {
          "output_type": "execute_result",
          "data": {
            "text/plain": [
              "numpy.ndarray"
            ]
          },
          "metadata": {
            "tags": []
          },
          "execution_count": 3
        }
      ]
    },
    {
      "cell_type": "code",
      "metadata": {
        "colab": {
          "base_uri": "https://localhost:8080/"
        },
        "id": "X_xJQ18rK66M",
        "outputId": "8c60914e-d524-41c1-9131-bc836b8afeee"
      },
      "source": [
        "X.shape"
      ],
      "execution_count": 4,
      "outputs": [
        {
          "output_type": "execute_result",
          "data": {
            "text/plain": [
              "(1000, 28, 28, 1)"
            ]
          },
          "metadata": {
            "tags": []
          },
          "execution_count": 4
        }
      ]
    },
    {
      "cell_type": "code",
      "metadata": {
        "colab": {
          "base_uri": "https://localhost:8080/"
        },
        "id": "C8saaRQJKTVx",
        "outputId": "2d9c6d22-82b5-45c2-d313-e77f2f9eceff"
      },
      "source": [
        "type(y)"
      ],
      "execution_count": 5,
      "outputs": [
        {
          "output_type": "execute_result",
          "data": {
            "text/plain": [
              "numpy.ndarray"
            ]
          },
          "metadata": {
            "tags": []
          },
          "execution_count": 5
        }
      ]
    },
    {
      "cell_type": "code",
      "metadata": {
        "colab": {
          "base_uri": "https://localhost:8080/"
        },
        "id": "owj8MewzK9bl",
        "outputId": "1d62939f-24dd-4e22-f5c6-0e18dd67ceca"
      },
      "source": [
        "y.shape"
      ],
      "execution_count": 6,
      "outputs": [
        {
          "output_type": "execute_result",
          "data": {
            "text/plain": [
              "(1000,)"
            ]
          },
          "metadata": {
            "tags": []
          },
          "execution_count": 6
        }
      ]
    },
    {
      "cell_type": "code",
      "metadata": {
        "colab": {
          "base_uri": "https://localhost:8080/"
        },
        "id": "MQpmdv68xyat",
        "outputId": "52d4a885-a980-4458-af96-7bdacd960795"
      },
      "source": [
        "ex_index = np.random.randint(y_train.shape[0], size=3)\n",
        "ex_index"
      ],
      "execution_count": 7,
      "outputs": [
        {
          "output_type": "execute_result",
          "data": {
            "text/plain": [
              "array([ 37, 235,  72])"
            ]
          },
          "metadata": {
            "tags": []
          },
          "execution_count": 7
        }
      ]
    },
    {
      "cell_type": "code",
      "metadata": {
        "colab": {
          "base_uri": "https://localhost:8080/"
        },
        "id": "Y1pHX-2JPrRx",
        "outputId": "63ad8481-3de7-40b9-dfaa-e59effc12cb5"
      },
      "source": [
        "y_oh_ex = y_oh[ex_index]\n",
        "y_oh_ex"
      ],
      "execution_count": 8,
      "outputs": [
        {
          "output_type": "execute_result",
          "data": {
            "text/plain": [
              "array([[1., 0., 0., 0., 0., 0., 0., 0., 0., 0.],\n",
              "       [0., 0., 0., 1., 0., 0., 0., 0., 0., 0.],\n",
              "       [0., 1., 0., 0., 0., 0., 0., 0., 0., 0.]])"
            ]
          },
          "metadata": {
            "tags": []
          },
          "execution_count": 8
        }
      ]
    },
    {
      "cell_type": "code",
      "metadata": {
        "colab": {
          "base_uri": "https://localhost:8080/"
        },
        "id": "R6XZAME5PyJV",
        "outputId": "07bf9401-9ad0-4ef5-f68f-7e5fcd2194c3"
      },
      "source": [
        "y_ex = y[ex_index]\n",
        "y_ex"
      ],
      "execution_count": 9,
      "outputs": [
        {
          "output_type": "execute_result",
          "data": {
            "text/plain": [
              "array([0, 3, 1])"
            ]
          },
          "metadata": {
            "tags": []
          },
          "execution_count": 9
        }
      ]
    },
    {
      "cell_type": "code",
      "metadata": {
        "colab": {
          "base_uri": "https://localhost:8080/"
        },
        "id": "wJTKbHFvyo3A",
        "outputId": "e330cb40-d70b-44de-9ff8-6ed01dd8d01a"
      },
      "source": [
        "X_train[ex_index][0].shape"
      ],
      "execution_count": 10,
      "outputs": [
        {
          "output_type": "execute_result",
          "data": {
            "text/plain": [
              "(28, 28, 1)"
            ]
          },
          "metadata": {
            "tags": []
          },
          "execution_count": 10
        }
      ]
    },
    {
      "cell_type": "code",
      "metadata": {
        "colab": {
          "base_uri": "https://localhost:8080/",
          "height": 809
        },
        "id": "ETFeQxhY7yE-",
        "outputId": "f2b4d241-cba3-44bc-d29b-4d95d2325678"
      },
      "source": [
        "X_ex = X_train[ex_index]\n",
        "X_ex = X_ex.reshape(X_ex.shape[0],28,28)\n",
        "\n",
        "for i in range(3):\n",
        "  plt.title('Label is {label}'.format(label=y_train[ex_index][i]))\n",
        "  fig = plt.figure\n",
        "  plt.imshow(X_ex[i], cmap='gray')\n",
        "  plt.show()"
      ],
      "execution_count": 11,
      "outputs": [
        {
          "output_type": "display_data",
          "data": {
            "image/png": "[encoded data removed]",
            "text/plain": [
              "<Figure size 432x288 with 1 Axes>"
            ]
          },
          "metadata": {
            "tags": [],
            "needs_background": "light"
          }
        },
        {
          "output_type": "display_data",
          "data": {
            "image/png": "[encoded data removed]",
            "text/plain": [
              "<Figure size 432x288 with 1 Axes>"
            ]
          },
          "metadata": {
            "tags": [],
            "needs_background": "light"
          }
        },
        {
          "output_type": "display_data",
          "data": {
            "image/png": "[encoded data removed]",
            "text/plain": [
              "<Figure size 432x288 with 1 Axes>"
            ]
          },
          "metadata": {
            "tags": [],
            "needs_background": "light"
          }
        }
      ]
    },
    {
      "cell_type": "markdown",
      "metadata": {
        "id": "c7tSTLUwyTLj"
      },
      "source": [
        "### Question 1\n",
        "**The data set**\n",
        "\n",
        "Plot a three examples from the data set.\n",
        "\n",
        "* What type of data are in the data set?\n",
        "\n",
        "    ANS: Both X and y are numpy.ndarray but they have different shapes that X is in shape(1000,28,28,1) where y is in shape(1000,). That means X is a 4D array but y is a 1D array. \n",
        "    \n",
        "\n",
        "* What does the line ```X = X.reshape(X.shape[0], 28, 28, 1)``` do?\n",
        "\n",
        "    ANS: The original dataset has 70000 rows and 784 features. Here we take the first 1000 rows as our dataset in this assignment. Before the reshape, X has a shape of (1000,784) which means 1000 rows and 784 columns. The reshape command here is to transform X dataset to a dataset that contains 1000 images(rows), each of size 28*28 pixels(28^2=784 columns). And since they are grayscale images, the \"1\" is an empty dimension to match the input shape of the neural network.\n",
        "\n",
        "Look at how the encoding of the targets (i.e. ```y```) is changed. E.g. the lines\n",
        "```\n",
        "    y_oh = np.zeros((num_tot, num_classes))\n",
        "    y_oh[range(num_tot), y] = 1\n",
        "```\n",
        "Print out a few rows of ```y``` next to ```y_oh```.\n",
        "\n",
        "\n",
        "* What is the relationship between ```y``` and ```y_oh```?\n",
        "\n",
        "    ANS: y_oh is a 2D array whose length is the same as y, 1000. But y_oh has 10 columns representing y has 10 unique values. First we create a 2D array with all values are 0 in shape of (1000,10). Then we assign 1s to the 2D array according to the exact value of y. For example, if the 101th value of y is 6, then we fill the y_oh[100,5] with the number of 1. Therefore, we transformed the value of 6 to a expression of 0000010000. In this way, we made each entry of y become a binary series with length of 10. And we made a copy of y in catagorical variables instead of different integers. \n",
        "    \n",
        "    \n",
        "* What is the type of encoding in ```y_oh``` called and why is it used?\n",
        "\n",
        "    ANS: This is called one-hot encoding. This is used because we want to take the value of y into catagorical variables to make ML algorithms to do a better job in prediction. The one hot encoding allows can convert categorical data into numbers, and these numbers are not ordered value, they are the symbols of catagories. This is required for both input and output variables that are categorical. When a one hot encoding is used for the output variable, it may offer a more nuanced set of predictions than a single label, and therefore, we can estimate the MSE loss correspondingly.\n",
        "    \n",
        "    \n",
        "* Plot three data examples in the same figure and set the correct label as title. \n",
        "    * It should be possible to see what the data represent.\n",
        "\n",
        "    ANS: Plots are shown as output above."
      ]
    },
    {
      "cell_type": "markdown",
      "metadata": {
        "id": "OvpZJZMWyTLj"
      },
      "source": [
        "### Question 2\n",
        "**The model**\n",
        "\n",
        "Below is some code for bulding and training a model with Keras.\n",
        "* What type of network is implemented below? I.e. a normal MLP, RNN, CNN, Logistic Regression...?\n",
        "\n",
        "    ANS : This is a Convolutional Neural Network (CNN), maybe a multi-layer CNN since there are two layers of ReLu.\n",
        "    \n",
        "    \n",
        "* What does ```Dropout()``` do?\n",
        "\n",
        "    ANS: The dropout function here allows us to ignore a certain proportion of units in the CNN network. By dropping a unit out, we temporarily ignore it from the network, along with all its incoming and outgoing (hidden and visible) connections. The number specified in the Dropout() function is the fraction of the input units to drop.\n",
        "\n",
        "    Dropout function allow us to learn a fraction of the inputs in the network in each training iteration, instead of learning all the inputs together. Therefore, we can prevent the co-dependency between parameters developed during training, and we can prevent our fitted model from overfitting. \n",
        "\n",
        "\n",
        "* Which type of activation function is used for the hidden layers?\n",
        "\n",
        "    ANS : ReLu function is used for the hidden layers.\n",
        "\n",
        "\n",
        "* Which type of activation function is used for the output layer?\n",
        "\n",
        "    ANS: Softmax function is used for the output layer.\n",
        "\n",
        "\n",
        "* Why are two different activation functions used?\n",
        "\n",
        "    ANS : Because ReLu and Softmax have different advantages and uses. \n",
        "    \n",
        "    ReLu function could train the network quickly because the gradient of ReLu is always high compared to other activation functions so that ReLu allows the network to converge very quickly. However, the Softmax function is totally different with ReLu. Softmax function is often used in the output layer because Softmax is able to normalizes the outputs for each catagory between 0 and 1, and divides by their sum, giving the probability of the input value being in a specific catagotry.\n",
        "\n",
        "    To summarize, ReLu is used to train the model quickly while Softmax is to provide probability of a input belonging to a specific catagory.\n",
        "\n",
        "\n",
        "\n",
        "* What optimizer is used in the model below?\n",
        "\n",
        "    ANS : Stochastic gradient descent is used as the optimizer here.\n",
        "\n",
        "\n",
        "* How often are the weights updated (i.e. after how many data examples)?\n",
        "\n",
        "    ANS: We can see that we set the batch size to 32. And A batch size of 32 means that 32 samples from the training dataset will be used to estimate the error gradient before the model weights are updated. \n",
        "\n",
        "    Therefore, the weights will be updated after every 32 data examples.\n",
        "\n",
        "\n",
        "* What loss function is used?\n",
        "\n",
        "    ANS : Categorical Crossentropy loss function is used since we have 10 different label catagories. This loss function allows us to compute the crossentropy loss between the labels and predictions. \n",
        "\n",
        "\n",
        "* How many parameters (i.e. weights and biases, NOT hyper-parameters) does the model have?\n",
        "\n",
        "    ANS : All Max-pooling functions do not require any parameters because it is a mathematical operation to find the maximum.\n",
        "\n",
        "    The first Conv2D layer has 16 * (3 * 3+1) = 160 parameters. The second Conv2d layer has (3 * 3 * 16+1) * 32 = 4640 parameters. The third layer is a dense layer, from the output of model.summary() we can see that the third layer has (800+1) * 128 = 102528 parameters. And the last layer is a Softmax layer which has (128 * 10 +10) = 1290 parameters. Full architecture of the model is shown with the model.summary() command.\n",
        "\n",
        "    Therefore, this model has 160 + 4640 + 102528 + 1290 = 108618 parameters. \n"
      ]
    },
    {
      "cell_type": "code",
      "metadata": {
        "scrolled": true,
        "id": "6gUi_8INyTLj",
        "colab": {
          "base_uri": "https://localhost:8080/"
        },
        "outputId": "7ecb9594-0882-40cb-e93b-7599951f3daf"
      },
      "source": [
        "from tensorflow.keras.models import Sequential\n",
        "from tensorflow.keras.layers import Dense, Dropout, Flatten\n",
        "from tensorflow.keras.layers import Conv2D, MaxPooling2D\n",
        "from tensorflow.keras.optimizers import SGD\n",
        "\n",
        "\n",
        "model = Sequential()\n",
        "\n",
        "model.add(Conv2D(16, (3, 3), activation='relu', input_shape=(28, 28, 1)))\n",
        "# Max pooling\n",
        "model.add(MaxPooling2D(pool_size=(2, 2)))\n",
        "model.add(Dropout(0.))\n",
        "\n",
        "model.add(Conv2D(32, (3, 3), activation='relu'))\n",
        "# Max pooling\n",
        "model.add(MaxPooling2D(pool_size=(2, 2)))\n",
        "model.add(Flatten())\n",
        "\n",
        "model.add(Dense(128, activation='relu'))\n",
        "model.add(Dropout(0.))\n",
        "\n",
        "model.add(Dense(10, activation='softmax'))\n",
        "\n",
        "sgd = SGD(lr=0.01, decay=1e-6, momentum=0.9, nesterov=True)\n",
        "\n",
        "# Compile the model\n",
        "model.compile(loss='categorical_crossentropy', optimizer=sgd)\n",
        "\n",
        "# Train the model\n",
        "model.fit(X_train, y_oh_train, batch_size=32, epochs=60)\n",
        "\n",
        "# Evaluate performance\n",
        "test_loss = model.evaluate(X_test, y_oh_test, batch_size=32)\n",
        "\n",
        "predictions = model.predict(X_test, batch_size=32)\n",
        "predictions = np.argmax(predictions, axis=1) # change encoding again\n",
        "print('Accuracy:', (predictions == y_test).sum() / predictions.shape[0])"
      ],
      "execution_count": 12,
      "outputs": [
        {
          "output_type": "stream",
          "text": [
            "Epoch 1/60\n",
            "25/25 [==============================] - 1s 19ms/step - loss: 2.2322\n",
            "Epoch 2/60\n",
            "25/25 [==============================] - 0s 19ms/step - loss: 1.3094\n",
            "Epoch 3/60\n",
            "25/25 [==============================] - 0s 20ms/step - loss: 0.5476\n",
            "Epoch 4/60\n",
            "25/25 [==============================] - 0s 20ms/step - loss: 0.3458\n",
            "Epoch 5/60\n",
            "25/25 [==============================] - 0s 20ms/step - loss: 0.2481\n",
            "Epoch 6/60\n",
            "25/25 [==============================] - 0s 19ms/step - loss: 0.1618\n",
            "Epoch 7/60\n",
            "25/25 [==============================] - 1s 20ms/step - loss: 0.1702\n",
            "Epoch 8/60\n",
            "25/25 [==============================] - 0s 19ms/step - loss: 0.1203\n",
            "Epoch 9/60\n",
            "25/25 [==============================] - 0s 19ms/step - loss: 0.0991\n",
            "Epoch 10/60\n",
            "25/25 [==============================] - 1s 21ms/step - loss: 0.0544\n",
            "Epoch 11/60\n",
            "25/25 [==============================] - 1s 24ms/step - loss: 0.0416\n",
            "Epoch 12/60\n",
            "25/25 [==============================] - 1s 20ms/step - loss: 0.0405\n",
            "Epoch 13/60\n",
            "25/25 [==============================] - 1s 20ms/step - loss: 0.0346\n",
            "Epoch 14/60\n",
            "25/25 [==============================] - 0s 19ms/step - loss: 0.0197\n",
            "Epoch 15/60\n",
            "25/25 [==============================] - 0s 20ms/step - loss: 0.0155\n",
            "Epoch 16/60\n",
            "25/25 [==============================] - 0s 19ms/step - loss: 0.0179\n",
            "Epoch 17/60\n",
            "25/25 [==============================] - 0s 19ms/step - loss: 0.0119\n",
            "Epoch 18/60\n",
            "25/25 [==============================] - 0s 19ms/step - loss: 0.0071\n",
            "Epoch 19/60\n",
            "25/25 [==============================] - 0s 19ms/step - loss: 0.0077\n",
            "Epoch 20/60\n",
            "25/25 [==============================] - 1s 20ms/step - loss: 0.0040\n",
            "Epoch 21/60\n",
            "25/25 [==============================] - 1s 22ms/step - loss: 0.0042\n",
            "Epoch 22/60\n",
            "25/25 [==============================] - 1s 20ms/step - loss: 0.0032\n",
            "Epoch 23/60\n",
            "25/25 [==============================] - 0s 20ms/step - loss: 0.0035\n",
            "Epoch 24/60\n",
            "25/25 [==============================] - 1s 21ms/step - loss: 0.0023\n",
            "Epoch 25/60\n",
            "25/25 [==============================] - 1s 23ms/step - loss: 0.0022\n",
            "Epoch 26/60\n",
            "25/25 [==============================] - 1s 22ms/step - loss: 0.0022\n",
            "Epoch 27/60\n",
            "25/25 [==============================] - 1s 24ms/step - loss: 0.0021\n",
            "Epoch 28/60\n",
            "25/25 [==============================] - 0s 19ms/step - loss: 0.0019\n",
            "Epoch 29/60\n",
            "25/25 [==============================] - 0s 20ms/step - loss: 0.0019\n",
            "Epoch 30/60\n",
            "25/25 [==============================] - 0s 19ms/step - loss: 0.0015\n",
            "Epoch 31/60\n",
            "25/25 [==============================] - 0s 20ms/step - loss: 0.0018\n",
            "Epoch 32/60\n",
            "25/25 [==============================] - 1s 23ms/step - loss: 0.0015\n",
            "Epoch 33/60\n",
            "25/25 [==============================] - 1s 23ms/step - loss: 0.0013\n",
            "Epoch 34/60\n",
            "25/25 [==============================] - 1s 23ms/step - loss: 0.0013\n",
            "Epoch 35/60\n",
            "25/25 [==============================] - 1s 22ms/step - loss: 0.0012\n",
            "Epoch 36/60\n",
            "25/25 [==============================] - 1s 20ms/step - loss: 0.0011\n",
            "Epoch 37/60\n",
            "25/25 [==============================] - 1s 20ms/step - loss: 0.0012\n",
            "Epoch 38/60\n",
            "25/25 [==============================] - 0s 20ms/step - loss: 0.0011\n",
            "Epoch 39/60\n",
            "25/25 [==============================] - 0s 19ms/step - loss: 0.0012\n",
            "Epoch 40/60\n",
            "25/25 [==============================] - 1s 20ms/step - loss: 0.0011\n",
            "Epoch 41/60\n",
            "25/25 [==============================] - 0s 19ms/step - loss: 0.0010\n",
            "Epoch 42/60\n",
            "25/25 [==============================] - 1s 20ms/step - loss: 9.5389e-04\n",
            "Epoch 43/60\n",
            "25/25 [==============================] - 0s 19ms/step - loss: 8.7589e-04\n",
            "Epoch 44/60\n",
            "25/25 [==============================] - 1s 20ms/step - loss: 7.5664e-04\n",
            "Epoch 45/60\n",
            "25/25 [==============================] - 1s 20ms/step - loss: 7.8364e-04\n",
            "Epoch 46/60\n",
            "25/25 [==============================] - 1s 20ms/step - loss: 8.6218e-04\n",
            "Epoch 47/60\n",
            "25/25 [==============================] - 1s 21ms/step - loss: 7.4382e-04\n",
            "Epoch 48/60\n",
            "25/25 [==============================] - 0s 20ms/step - loss: 5.9547e-04\n",
            "Epoch 49/60\n",
            "25/25 [==============================] - 0s 19ms/step - loss: 7.4040e-04\n",
            "Epoch 50/60\n",
            "25/25 [==============================] - 1s 23ms/step - loss: 6.5876e-04\n",
            "Epoch 51/60\n",
            "25/25 [==============================] - 1s 22ms/step - loss: 6.1762e-04\n",
            "Epoch 52/60\n",
            "25/25 [==============================] - 1s 22ms/step - loss: 5.8019e-04\n",
            "Epoch 53/60\n",
            "25/25 [==============================] - 1s 22ms/step - loss: 5.5301e-04\n",
            "Epoch 54/60\n",
            "25/25 [==============================] - 1s 22ms/step - loss: 5.6151e-04\n",
            "Epoch 55/60\n",
            "25/25 [==============================] - 1s 21ms/step - loss: 6.9891e-04\n",
            "Epoch 56/60\n",
            "25/25 [==============================] - 0s 19ms/step - loss: 6.1614e-04\n",
            "Epoch 57/60\n",
            "25/25 [==============================] - 1s 22ms/step - loss: 5.2972e-04\n",
            "Epoch 58/60\n",
            "25/25 [==============================] - 1s 23ms/step - loss: 6.1560e-04\n",
            "Epoch 59/60\n",
            "25/25 [==============================] - 1s 21ms/step - loss: 5.8387e-04\n",
            "Epoch 60/60\n",
            "25/25 [==============================] - 0s 20ms/step - loss: 5.5804e-04\n",
            "7/7 [==============================] - 0s 7ms/step - loss: 0.4677\n",
            "Accuracy: 0.93\n"
          ],
          "name": "stdout"
        }
      ]
    },
    {
      "cell_type": "code",
      "metadata": {
        "id": "miipu4ip30Xs",
        "colab": {
          "base_uri": "https://localhost:8080/"
        },
        "outputId": "fa43974c-4475-459d-a957-2a6010969e45"
      },
      "source": [
        "model.summary()"
      ],
      "execution_count": 13,
      "outputs": [
        {
          "output_type": "stream",
          "text": [
            "Model: \"sequential\"\n",
            "_________________________________________________________________\n",
            "Layer (type)                 Output Shape              Param #   \n",
            "=================================================================\n",
            "conv2d (Conv2D)              (None, 26, 26, 16)        160       \n",
            "_________________________________________________________________\n",
            "max_pooling2d (MaxPooling2D) (None, 13, 13, 16)        0         \n",
            "_________________________________________________________________\n",
            "dropout (Dropout)            (None, 13, 13, 16)        0         \n",
            "_________________________________________________________________\n",
            "conv2d_1 (Conv2D)            (None, 11, 11, 32)        4640      \n",
            "_________________________________________________________________\n",
            "max_pooling2d_1 (MaxPooling2 (None, 5, 5, 32)          0         \n",
            "_________________________________________________________________\n",
            "flatten (Flatten)            (None, 800)               0         \n",
            "_________________________________________________________________\n",
            "dense (Dense)                (None, 128)               102528    \n",
            "_________________________________________________________________\n",
            "dropout_1 (Dropout)          (None, 128)               0         \n",
            "_________________________________________________________________\n",
            "dense_1 (Dense)              (None, 10)                1290      \n",
            "=================================================================\n",
            "Total params: 108,618\n",
            "Trainable params: 108,618\n",
            "Non-trainable params: 0\n",
            "_________________________________________________________________\n"
          ],
          "name": "stdout"
        }
      ]
    },
    {
      "cell_type": "markdown",
      "metadata": {
        "id": "os-gzwN3yTLk"
      },
      "source": [
        "## Part 2 - train a model\n",
        "\n",
        "A model's performance depends on many factors apart from the model architecture (e.g. type and number of layers) and the dataset. Here you will get to explore some of the factors that affect model performance. Much of the skill in training deep learning models lies in quickly finding good values/options for these choises.\n",
        "\n",
        "In order to observe the learning process it is best to compare the training set loss with the loss on the test set. How to visualize these variables with Keras is described under [Training history visualization](https://keras.io/visualization/#training-history-visualization) in the documentation.\n",
        "\n",
        "You will explore the effect of 1) optimizer, 2) training duration, and 3) dropout (see the question above).\n",
        "\n",
        "When training, an **epoch** is one pass through the full training set.\n",
        "\n",
        "### Question 3\n",
        "\n",
        "* **Vizualize the training**. Use the model above to observe the training process. Train it for 150 epochs and then plot both \"loss\" and \"val_loss\" (i.e. loss on the valiadtion set, here the terms \"validation set\" and \"test set\" are used interchangably, but this is not always true). What is the optimal number of epochs for minimizing the test set loss? \n",
        "    * Remember to first reset the weights (```model.reset_states()```), otherwise the training just continues from where it was stopped earlier.\n",
        "\n",
        "\n",
        "* ANS: Below are the codes I run to visualize the loss and val_loss. Since the model.rest_state() does not work and model.compile() does not work either, I re-set the entire model each time. In the following code I train the model for 150 epochs. And from the plot in the output, we can see that the val_loss is approximately decreasing in the first 20 epochs and then the val_loss is steady increasing after 25 ~ 30 epochs. \n",
        "\n",
        "  Therefore, I would say the at least 30 epochs are required for the best performance(lowest val_loss). However I would use 30+20=50 epochs in the following parts to do the GridSearch for the hyperparameters."
      ]
    },
    {
      "cell_type": "code",
      "metadata": {
        "id": "d_P7XZ6d2Kmz",
        "colab": {
          "base_uri": "https://localhost:8080/",
          "height": 1000
        },
        "outputId": "085b666f-d730-4d30-8fc7-846f07251ffc"
      },
      "source": [
        "from tensorflow.keras.models import Sequential\n",
        "from tensorflow.keras.layers import Dense, Dropout, Flatten\n",
        "from tensorflow.keras.layers import Conv2D, MaxPooling2D\n",
        "from tensorflow.keras.optimizers import SGD\n",
        "\n",
        "model = Sequential()\n",
        "\n",
        "model.add(Conv2D(16, (3, 3), activation='relu', input_shape=(28, 28, 1)))\n",
        "# Max pooling\n",
        "model.add(MaxPooling2D(pool_size=(2, 2)))\n",
        "model.add(Dropout(0.))\n",
        "\n",
        "model.add(Conv2D(32, (3, 3), activation='relu'))\n",
        "# Max pooling\n",
        "model.add(MaxPooling2D(pool_size=(2, 2)))\n",
        "model.add(Flatten())\n",
        "\n",
        "model.add(Dense(128, activation='relu'))\n",
        "model.add(Dropout(0.))\n",
        "\n",
        "model.add(Dense(10, activation='softmax'))\n",
        "\n",
        "sgd = SGD(lr=0.01, decay=1e-6, momentum=0.9, nesterov=True)\n",
        "\n",
        "# Compile the model\n",
        "model.compile(loss='categorical_crossentropy', optimizer=sgd)\n",
        "\n",
        "# Train the model\n",
        "history = model.fit(X_train, y_oh_train, batch_size=32, epochs=150, validation_data=(X_test, y_oh_test))\n",
        "\n",
        "# Evaluate performance\n",
        "test_loss = model.evaluate(X_test, y_oh_test, batch_size=32)\n",
        "\n",
        "predictions = model.predict(X_test, batch_size=32)\n",
        "predictions = np.argmax(predictions, axis=1) # change encoding again\n",
        "print('Accuracy:', (predictions == y_test).sum() / predictions.shape[0])\n",
        "\n",
        "# Plot learning\n",
        "fig = plt.figure(figsize=(12,4))\n",
        "ax0 = fig.add_subplot(121)\n",
        "ax0.plot(history.history['val_loss'], label='validation loss')\n",
        "ax0.plot(history.history['loss'], label='training loss')\n",
        "ax0.set_ylabel('Loss')\n",
        "ax0.set_xlabel('Epoch')\n",
        "ax0.legend()"
      ],
      "execution_count": 14,
      "outputs": [
        {
          "output_type": "stream",
          "text": [
            "Epoch 1/150\n",
            "25/25 [==============================] - 1s 30ms/step - loss: 2.2317 - val_loss: 1.7812\n",
            "Epoch 2/150\n",
            "25/25 [==============================] - 1s 25ms/step - loss: 1.2515 - val_loss: 0.7918\n",
            "Epoch 3/150\n",
            "25/25 [==============================] - 1s 26ms/step - loss: 0.5384 - val_loss: 0.4853\n",
            "Epoch 4/150\n",
            "25/25 [==============================] - 1s 34ms/step - loss: 0.3447 - val_loss: 0.3674\n",
            "Epoch 5/150\n",
            "25/25 [==============================] - 1s 26ms/step - loss: 0.2615 - val_loss: 0.4285\n",
            "Epoch 6/150\n",
            "25/25 [==============================] - 1s 22ms/step - loss: 0.2047 - val_loss: 0.3760\n",
            "Epoch 7/150\n",
            "25/25 [==============================] - 1s 22ms/step - loss: 0.1651 - val_loss: 0.3550\n",
            "Epoch 8/150\n",
            "25/25 [==============================] - 1s 26ms/step - loss: 0.1485 - val_loss: 0.3529\n",
            "Epoch 9/150\n",
            "25/25 [==============================] - 1s 26ms/step - loss: 0.0979 - val_loss: 0.3083\n",
            "Epoch 10/150\n",
            "25/25 [==============================] - 1s 25ms/step - loss: 0.0642 - val_loss: 0.3670\n",
            "Epoch 11/150\n",
            "25/25 [==============================] - 1s 24ms/step - loss: 0.0480 - val_loss: 0.3779\n",
            "Epoch 12/150\n",
            "25/25 [==============================] - 1s 22ms/step - loss: 0.0588 - val_loss: 0.3347\n",
            "Epoch 13/150\n",
            "25/25 [==============================] - 1s 22ms/step - loss: 0.0394 - val_loss: 0.3355\n",
            "Epoch 14/150\n",
            "25/25 [==============================] - 1s 23ms/step - loss: 0.0254 - val_loss: 0.3773\n",
            "Epoch 15/150\n",
            "25/25 [==============================] - 1s 21ms/step - loss: 0.0252 - val_loss: 0.3683\n",
            "Epoch 16/150\n",
            "25/25 [==============================] - 1s 24ms/step - loss: 0.0289 - val_loss: 0.3750\n",
            "Epoch 17/150\n",
            "25/25 [==============================] - 1s 26ms/step - loss: 0.0172 - val_loss: 0.3083\n",
            "Epoch 18/150\n",
            "25/25 [==============================] - 1s 26ms/step - loss: 0.0071 - val_loss: 0.3438\n",
            "Epoch 19/150\n",
            "25/25 [==============================] - 1s 25ms/step - loss: 0.0071 - val_loss: 0.3501\n",
            "Epoch 20/150\n",
            "25/25 [==============================] - 1s 23ms/step - loss: 0.0047 - val_loss: 0.3726\n",
            "Epoch 21/150\n",
            "25/25 [==============================] - 1s 24ms/step - loss: 0.0037 - val_loss: 0.3642\n",
            "Epoch 22/150\n",
            "25/25 [==============================] - 1s 25ms/step - loss: 0.0030 - val_loss: 0.3717\n",
            "Epoch 23/150\n",
            "25/25 [==============================] - 1s 23ms/step - loss: 0.0029 - val_loss: 0.3664\n",
            "Epoch 24/150\n",
            "25/25 [==============================] - 1s 22ms/step - loss: 0.0021 - val_loss: 0.3806\n",
            "Epoch 25/150\n",
            "25/25 [==============================] - 1s 23ms/step - loss: 0.0021 - val_loss: 0.3783\n",
            "Epoch 26/150\n",
            "25/25 [==============================] - 1s 23ms/step - loss: 0.0021 - val_loss: 0.3848\n",
            "Epoch 27/150\n",
            "25/25 [==============================] - 1s 26ms/step - loss: 0.0019 - val_loss: 0.3901\n",
            "Epoch 28/150\n",
            "25/25 [==============================] - 1s 25ms/step - loss: 0.0017 - val_loss: 0.3885\n",
            "Epoch 29/150\n",
            "25/25 [==============================] - 1s 22ms/step - loss: 0.0017 - val_loss: 0.3952\n",
            "Epoch 30/150\n",
            "25/25 [==============================] - 1s 22ms/step - loss: 0.0014 - val_loss: 0.3944\n",
            "Epoch 31/150\n",
            "25/25 [==============================] - 1s 23ms/step - loss: 0.0015 - val_loss: 0.3976\n",
            "Epoch 32/150\n",
            "25/25 [==============================] - 1s 27ms/step - loss: 0.0014 - val_loss: 0.4037\n",
            "Epoch 33/150\n",
            "25/25 [==============================] - 1s 25ms/step - loss: 0.0012 - val_loss: 0.4005\n",
            "Epoch 34/150\n",
            "25/25 [==============================] - 1s 22ms/step - loss: 0.0012 - val_loss: 0.4063\n",
            "Epoch 35/150\n",
            "25/25 [==============================] - 1s 22ms/step - loss: 0.0012 - val_loss: 0.4084\n",
            "Epoch 36/150\n",
            "25/25 [==============================] - 1s 22ms/step - loss: 9.8031e-04 - val_loss: 0.4090\n",
            "Epoch 37/150\n",
            "25/25 [==============================] - 1s 22ms/step - loss: 0.0011 - val_loss: 0.4141\n",
            "Epoch 38/150\n",
            "25/25 [==============================] - 1s 22ms/step - loss: 0.0011 - val_loss: 0.4146\n",
            "Epoch 39/150\n",
            "25/25 [==============================] - 1s 26ms/step - loss: 0.0011 - val_loss: 0.4188\n",
            "Epoch 40/150\n",
            "25/25 [==============================] - 1s 24ms/step - loss: 9.5357e-04 - val_loss: 0.4164\n",
            "Epoch 41/150\n",
            "25/25 [==============================] - 1s 23ms/step - loss: 9.2746e-04 - val_loss: 0.4199\n",
            "Epoch 42/150\n",
            "25/25 [==============================] - 1s 22ms/step - loss: 8.8658e-04 - val_loss: 0.4209\n",
            "Epoch 43/150\n",
            "25/25 [==============================] - 1s 22ms/step - loss: 8.1601e-04 - val_loss: 0.4244\n",
            "Epoch 44/150\n",
            "25/25 [==============================] - 1s 23ms/step - loss: 6.9085e-04 - val_loss: 0.4255\n",
            "Epoch 45/150\n",
            "25/25 [==============================] - 1s 24ms/step - loss: 6.8848e-04 - val_loss: 0.4255\n",
            "Epoch 46/150\n",
            "25/25 [==============================] - 1s 22ms/step - loss: 8.0820e-04 - val_loss: 0.4287\n",
            "Epoch 47/150\n",
            "25/25 [==============================] - 1s 24ms/step - loss: 6.6913e-04 - val_loss: 0.4314\n",
            "Epoch 48/150\n",
            "25/25 [==============================] - 1s 34ms/step - loss: 5.9091e-04 - val_loss: 0.4321\n",
            "Epoch 49/150\n",
            "25/25 [==============================] - 1s 23ms/step - loss: 7.0046e-04 - val_loss: 0.4317\n",
            "Epoch 50/150\n",
            "25/25 [==============================] - 1s 22ms/step - loss: 6.2281e-04 - val_loss: 0.4357\n",
            "Epoch 51/150\n",
            "25/25 [==============================] - 1s 22ms/step - loss: 5.8914e-04 - val_loss: 0.4352\n",
            "Epoch 52/150\n",
            "25/25 [==============================] - 1s 23ms/step - loss: 5.2691e-04 - val_loss: 0.4361\n",
            "Epoch 53/150\n",
            "25/25 [==============================] - 1s 22ms/step - loss: 5.2206e-04 - val_loss: 0.4375\n",
            "Epoch 54/150\n",
            "25/25 [==============================] - 1s 24ms/step - loss: 5.3382e-04 - val_loss: 0.4402\n",
            "Epoch 55/150\n",
            "25/25 [==============================] - 1s 26ms/step - loss: 6.5266e-04 - val_loss: 0.4399\n",
            "Epoch 56/150\n",
            "25/25 [==============================] - 1s 25ms/step - loss: 5.4927e-04 - val_loss: 0.4431\n",
            "Epoch 57/150\n",
            "25/25 [==============================] - 1s 25ms/step - loss: 4.6083e-04 - val_loss: 0.4435\n",
            "Epoch 58/150\n",
            "25/25 [==============================] - 1s 26ms/step - loss: 5.6716e-04 - val_loss: 0.4439\n",
            "Epoch 59/150\n",
            "25/25 [==============================] - 1s 26ms/step - loss: 5.6154e-04 - val_loss: 0.4471\n",
            "Epoch 60/150\n",
            "25/25 [==============================] - 1s 26ms/step - loss: 5.3198e-04 - val_loss: 0.4460\n",
            "Epoch 61/150\n",
            "25/25 [==============================] - 1s 26ms/step - loss: 4.9546e-04 - val_loss: 0.4498\n",
            "Epoch 62/150\n",
            "25/25 [==============================] - 1s 26ms/step - loss: 4.6048e-04 - val_loss: 0.4499\n",
            "Epoch 63/150\n",
            "25/25 [==============================] - 1s 26ms/step - loss: 4.8227e-04 - val_loss: 0.4479\n",
            "Epoch 64/150\n",
            "25/25 [==============================] - 1s 22ms/step - loss: 4.4597e-04 - val_loss: 0.4511\n",
            "Epoch 65/150\n",
            "25/25 [==============================] - 1s 23ms/step - loss: 4.1749e-04 - val_loss: 0.4519\n",
            "Epoch 66/150\n",
            "25/25 [==============================] - 1s 25ms/step - loss: 3.9417e-04 - val_loss: 0.4527\n",
            "Epoch 67/150\n",
            "25/25 [==============================] - 1s 25ms/step - loss: 3.8451e-04 - val_loss: 0.4530\n",
            "Epoch 68/150\n",
            "25/25 [==============================] - 1s 22ms/step - loss: 3.7447e-04 - val_loss: 0.4557\n",
            "Epoch 69/150\n",
            "25/25 [==============================] - 1s 24ms/step - loss: 3.9265e-04 - val_loss: 0.4561\n",
            "Epoch 70/150\n",
            "25/25 [==============================] - 1s 26ms/step - loss: 3.7356e-04 - val_loss: 0.4568\n",
            "Epoch 71/150\n",
            "25/25 [==============================] - 1s 26ms/step - loss: 3.6184e-04 - val_loss: 0.4573\n",
            "Epoch 72/150\n",
            "25/25 [==============================] - 1s 26ms/step - loss: 4.8039e-04 - val_loss: 0.4587\n",
            "Epoch 73/150\n",
            "25/25 [==============================] - 1s 26ms/step - loss: 4.1381e-04 - val_loss: 0.4598\n",
            "Epoch 74/150\n",
            "25/25 [==============================] - 1s 22ms/step - loss: 3.7948e-04 - val_loss: 0.4619\n",
            "Epoch 75/150\n",
            "25/25 [==============================] - 1s 23ms/step - loss: 3.3218e-04 - val_loss: 0.4594\n",
            "Epoch 76/150\n",
            "25/25 [==============================] - 1s 23ms/step - loss: 3.2240e-04 - val_loss: 0.4613\n",
            "Epoch 77/150\n",
            "25/25 [==============================] - 1s 24ms/step - loss: 3.5311e-04 - val_loss: 0.4634\n",
            "Epoch 78/150\n",
            "25/25 [==============================] - 1s 26ms/step - loss: 2.9094e-04 - val_loss: 0.4646\n",
            "Epoch 79/150\n",
            "25/25 [==============================] - 1s 26ms/step - loss: 3.6342e-04 - val_loss: 0.4635\n",
            "Epoch 80/150\n",
            "25/25 [==============================] - 1s 25ms/step - loss: 3.2788e-04 - val_loss: 0.4652\n",
            "Epoch 81/150\n",
            "25/25 [==============================] - 1s 25ms/step - loss: 2.7355e-04 - val_loss: 0.4653\n",
            "Epoch 82/150\n",
            "25/25 [==============================] - 1s 27ms/step - loss: 3.6827e-04 - val_loss: 0.4663\n",
            "Epoch 83/150\n",
            "25/25 [==============================] - 1s 26ms/step - loss: 3.1238e-04 - val_loss: 0.4688\n",
            "Epoch 84/150\n",
            "25/25 [==============================] - 1s 23ms/step - loss: 3.4938e-04 - val_loss: 0.4676\n",
            "Epoch 85/150\n",
            "25/25 [==============================] - 1s 22ms/step - loss: 3.6110e-04 - val_loss: 0.4689\n",
            "Epoch 86/150\n",
            "25/25 [==============================] - 1s 22ms/step - loss: 3.0831e-04 - val_loss: 0.4697\n",
            "Epoch 87/150\n",
            "25/25 [==============================] - 1s 25ms/step - loss: 2.8078e-04 - val_loss: 0.4702\n",
            "Epoch 88/150\n",
            "25/25 [==============================] - 1s 25ms/step - loss: 2.8954e-04 - val_loss: 0.4702\n",
            "Epoch 89/150\n",
            "25/25 [==============================] - 1s 23ms/step - loss: 2.9907e-04 - val_loss: 0.4713\n",
            "Epoch 90/150\n",
            "25/25 [==============================] - 1s 23ms/step - loss: 2.7487e-04 - val_loss: 0.4726\n",
            "Epoch 91/150\n",
            "25/25 [==============================] - 1s 22ms/step - loss: 2.5759e-04 - val_loss: 0.4732\n",
            "Epoch 92/150\n",
            "25/25 [==============================] - 1s 31ms/step - loss: 2.9935e-04 - val_loss: 0.4733\n",
            "Epoch 93/150\n",
            "25/25 [==============================] - 1s 26ms/step - loss: 2.7350e-04 - val_loss: 0.4748\n",
            "Epoch 94/150\n",
            "25/25 [==============================] - 1s 29ms/step - loss: 2.5524e-04 - val_loss: 0.4748\n",
            "Epoch 95/150\n",
            "25/25 [==============================] - 1s 27ms/step - loss: 2.8040e-04 - val_loss: 0.4757\n",
            "Epoch 96/150\n",
            "25/25 [==============================] - 1s 26ms/step - loss: 2.2801e-04 - val_loss: 0.4775\n",
            "Epoch 97/150\n",
            "25/25 [==============================] - 1s 24ms/step - loss: 2.6851e-04 - val_loss: 0.4760\n",
            "Epoch 98/150\n",
            "25/25 [==============================] - 1s 24ms/step - loss: 2.3550e-04 - val_loss: 0.4780\n",
            "Epoch 99/150\n",
            "25/25 [==============================] - 1s 25ms/step - loss: 2.3886e-04 - val_loss: 0.4783\n",
            "Epoch 100/150\n",
            "25/25 [==============================] - 1s 25ms/step - loss: 2.2607e-04 - val_loss: 0.4796\n",
            "Epoch 101/150\n",
            "25/25 [==============================] - 1s 26ms/step - loss: 2.3051e-04 - val_loss: 0.4787\n",
            "Epoch 102/150\n",
            "25/25 [==============================] - 1s 25ms/step - loss: 2.8846e-04 - val_loss: 0.4800\n",
            "Epoch 103/150\n",
            "25/25 [==============================] - 1s 24ms/step - loss: 2.6176e-04 - val_loss: 0.4809\n",
            "Epoch 104/150\n",
            "25/25 [==============================] - 1s 23ms/step - loss: 2.7580e-04 - val_loss: 0.4814\n",
            "Epoch 105/150\n",
            "25/25 [==============================] - 1s 22ms/step - loss: 2.5323e-04 - val_loss: 0.4818\n",
            "Epoch 106/150\n",
            "25/25 [==============================] - 1s 24ms/step - loss: 1.9882e-04 - val_loss: 0.4838\n",
            "Epoch 107/150\n",
            "25/25 [==============================] - 1s 22ms/step - loss: 2.4111e-04 - val_loss: 0.4832\n",
            "Epoch 108/150\n",
            "25/25 [==============================] - 1s 23ms/step - loss: 2.5817e-04 - val_loss: 0.4833\n",
            "Epoch 109/150\n",
            "25/25 [==============================] - 1s 23ms/step - loss: 2.2261e-04 - val_loss: 0.4832\n",
            "Epoch 110/150\n",
            "25/25 [==============================] - 1s 22ms/step - loss: 2.1806e-04 - val_loss: 0.4857\n",
            "Epoch 111/150\n",
            "25/25 [==============================] - 1s 23ms/step - loss: 2.5266e-04 - val_loss: 0.4848\n",
            "Epoch 112/150\n",
            "25/25 [==============================] - 1s 23ms/step - loss: 2.1069e-04 - val_loss: 0.4859\n",
            "Epoch 113/150\n",
            "25/25 [==============================] - 1s 23ms/step - loss: 1.8586e-04 - val_loss: 0.4865\n",
            "Epoch 114/150\n",
            "25/25 [==============================] - 1s 22ms/step - loss: 2.1460e-04 - val_loss: 0.4869\n",
            "Epoch 115/150\n",
            "25/25 [==============================] - 1s 23ms/step - loss: 1.8935e-04 - val_loss: 0.4874\n",
            "Epoch 116/150\n",
            "25/25 [==============================] - 1s 23ms/step - loss: 2.2871e-04 - val_loss: 0.4880\n",
            "Epoch 117/150\n",
            "25/25 [==============================] - 1s 24ms/step - loss: 1.8353e-04 - val_loss: 0.4886\n",
            "Epoch 118/150\n",
            "25/25 [==============================] - 1s 26ms/step - loss: 2.2334e-04 - val_loss: 0.4891\n",
            "Epoch 119/150\n",
            "25/25 [==============================] - 1s 25ms/step - loss: 1.8152e-04 - val_loss: 0.4897\n",
            "Epoch 120/150\n",
            "25/25 [==============================] - 1s 26ms/step - loss: 1.7862e-04 - val_loss: 0.4898\n",
            "Epoch 121/150\n",
            "25/25 [==============================] - 1s 23ms/step - loss: 1.7904e-04 - val_loss: 0.4907\n",
            "Epoch 122/150\n",
            "25/25 [==============================] - 1s 24ms/step - loss: 1.9358e-04 - val_loss: 0.4913\n",
            "Epoch 123/150\n",
            "25/25 [==============================] - 1s 26ms/step - loss: 2.0359e-04 - val_loss: 0.4904\n",
            "Epoch 124/150\n",
            "25/25 [==============================] - 1s 26ms/step - loss: 2.2004e-04 - val_loss: 0.4924\n",
            "Epoch 125/150\n",
            "25/25 [==============================] - 1s 26ms/step - loss: 1.6767e-04 - val_loss: 0.4934\n",
            "Epoch 126/150\n",
            "25/25 [==============================] - 1s 26ms/step - loss: 2.0147e-04 - val_loss: 0.4930\n",
            "Epoch 127/150\n",
            "25/25 [==============================] - 1s 25ms/step - loss: 1.6473e-04 - val_loss: 0.4927\n",
            "Epoch 128/150\n",
            "25/25 [==============================] - 1s 27ms/step - loss: 1.7369e-04 - val_loss: 0.4932\n",
            "Epoch 129/150\n",
            "25/25 [==============================] - 1s 22ms/step - loss: 1.8280e-04 - val_loss: 0.4940\n",
            "Epoch 130/150\n",
            "25/25 [==============================] - 1s 23ms/step - loss: 1.6621e-04 - val_loss: 0.4943\n",
            "Epoch 131/150\n",
            "25/25 [==============================] - 1s 24ms/step - loss: 1.6256e-04 - val_loss: 0.4955\n",
            "Epoch 132/150\n",
            "25/25 [==============================] - 1s 22ms/step - loss: 1.8444e-04 - val_loss: 0.4957\n",
            "Epoch 133/150\n",
            "25/25 [==============================] - 1s 23ms/step - loss: 1.6103e-04 - val_loss: 0.4966\n",
            "Epoch 134/150\n",
            "25/25 [==============================] - 1s 23ms/step - loss: 1.7540e-04 - val_loss: 0.4958\n",
            "Epoch 135/150\n",
            "25/25 [==============================] - 1s 23ms/step - loss: 1.7207e-04 - val_loss: 0.4970\n",
            "Epoch 136/150\n",
            "25/25 [==============================] - 1s 33ms/step - loss: 1.6454e-04 - val_loss: 0.4971\n",
            "Epoch 137/150\n",
            "25/25 [==============================] - 1s 24ms/step - loss: 1.6876e-04 - val_loss: 0.4977\n",
            "Epoch 138/150\n",
            "25/25 [==============================] - 1s 23ms/step - loss: 1.5186e-04 - val_loss: 0.4981\n",
            "Epoch 139/150\n",
            "25/25 [==============================] - 1s 23ms/step - loss: 1.6753e-04 - val_loss: 0.4986\n",
            "Epoch 140/150\n",
            "25/25 [==============================] - 1s 23ms/step - loss: 1.5816e-04 - val_loss: 0.4990\n",
            "Epoch 141/150\n",
            "25/25 [==============================] - 1s 27ms/step - loss: 1.9293e-04 - val_loss: 0.5002\n",
            "Epoch 142/150\n",
            "25/25 [==============================] - 1s 26ms/step - loss: 1.5653e-04 - val_loss: 0.5005\n",
            "Epoch 143/150\n",
            "25/25 [==============================] - 1s 26ms/step - loss: 1.5908e-04 - val_loss: 0.5006\n",
            "Epoch 144/150\n",
            "25/25 [==============================] - 1s 23ms/step - loss: 1.7403e-04 - val_loss: 0.5010\n",
            "Epoch 145/150\n",
            "25/25 [==============================] - 1s 23ms/step - loss: 1.4901e-04 - val_loss: 0.5019\n",
            "Epoch 146/150\n",
            "25/25 [==============================] - 1s 23ms/step - loss: 1.4301e-04 - val_loss: 0.5011\n",
            "Epoch 147/150\n",
            "25/25 [==============================] - 1s 23ms/step - loss: 1.6392e-04 - val_loss: 0.5015\n",
            "Epoch 148/150\n",
            "25/25 [==============================] - 1s 22ms/step - loss: 1.4850e-04 - val_loss: 0.5033\n",
            "Epoch 149/150\n",
            "25/25 [==============================] - 1s 24ms/step - loss: 1.3602e-04 - val_loss: 0.5026\n",
            "Epoch 150/150\n",
            "25/25 [==============================] - 1s 26ms/step - loss: 1.5112e-04 - val_loss: 0.5038\n",
            "7/7 [==============================] - 0s 7ms/step - loss: 0.5038\n",
            "Accuracy: 0.925\n"
          ],
          "name": "stdout"
        },
        {
          "output_type": "execute_result",
          "data": {
            "text/plain": [
              "<matplotlib.legend.Legend at 0x7f6c1c31f278>"
            ]
          },
          "metadata": {
            "tags": []
          },
          "execution_count": 14
        },
        {
          "output_type": "display_data",
          "data": {
            "image/png": "[encoded data removed]",
            "text/plain": [
              "<Figure size 864x288 with 1 Axes>"
            ]
          },
          "metadata": {
            "tags": [],
            "needs_background": "light"
          }
        }
      ]
    },
    {
      "cell_type": "markdown",
      "metadata": {
        "id": "rsqQ0RWEhb8K"
      },
      "source": [
        "\n",
        "* **Optimizer**. Select three different optimizers and for each find the close-to-optimal hyper-parameter(s). In your answer, include a) your three choises, b) best hyper-parameters for each of the three optimizers and, c) the code that produced the results.\n",
        "    * *NOTE* that how long the training takes varies with optimizer. I.e., make sure that the model is trained for long enough to reach optimal performance.\n",
        "\n",
        "    ANS : Here I used Adam, Nadam(NAG) and Adadelta as the three optimizers I chose. Below are the codes to use Grid Search to find the optimal hyper-parameters. All Grid Search are done based on 50 epochs.\n",
        "\n",
        "    Best hyper-parameters for Adam: beta_1 = 0.5, beta_2 = 0.8, learning_rate = 0.01. The final accuracy score is 0.931233\n",
        "    \n",
        "    Best hyper-parameters for Nadam(NAG): beta_1 = 0.9, beta_2 = 0.8, learning_rate = 1. The final accuracy score is 0.925000.\n",
        "\n",
        "    Best hyper-parameters for Adadelta: rho = 1, learning_rate = 0.1. The final accuracy score is 0.191218.\n",
        "    "
      ]
    },
    {
      "cell_type": "code",
      "metadata": {
        "id": "52Htk0jsA-hr",
        "colab": {
          "base_uri": "https://localhost:8080/"
        },
        "outputId": "ffefa828-15ab-4a38-b796-c415ad32b85c"
      },
      "source": [
        "# Use scikit-learn to grid search the hyperparameter for Adam\n",
        "import numpy \n",
        "from tensorflow.keras.optimizers import Nadam\n",
        "from tensorflow.keras.optimizers import Adam\n",
        "from tensorflow.keras.optimizers import Adadelta\n",
        "from tensorflow.keras.models import Sequential\n",
        "from tensorflow.keras.layers import Dense, Dropout, Flatten\n",
        "from tensorflow.keras.layers import Conv2D, MaxPooling2D\n",
        "from sklearn.model_selection import GridSearchCV\n",
        "from keras.models import Sequential\n",
        "from keras.layers import Dense\n",
        "from keras.wrappers.scikit_learn import KerasClassifier\n",
        "\n",
        "Adam = Adam(learning_rate=0.001,beta_1=0.9,beta_2=0.999,epsilon=1e-07,amsgrad=False)\n",
        "Adadelta = Adadelta(learning_rate=0.001, rho=0.95, epsilon=1e-07)\n",
        "NAG = Nadam(learning_rate=0.001, beta_1=0.9, beta_2=0.999, epsilon=1e-07)\n",
        "\n",
        "# Function to create model, required for KerasClassifier\n",
        "def create_model(learning_rate=0.001, beta_1=0.9, beta_2=0.999):\n",
        "\t# create model\n",
        "  model = Sequential()\n",
        "  model.add(Conv2D(16, (3, 3), activation='relu', input_shape=(28, 28, 1)))\n",
        "  # Max pooling\n",
        "  model.add(MaxPooling2D(pool_size=(2, 2)))\n",
        "  model.add(Dropout(0.))\n",
        "  model.add(Conv2D(32, (3, 3), activation='relu'))\n",
        "  # Max pooling\n",
        "  model.add(MaxPooling2D(pool_size=(2, 2)))\n",
        "  model.add(Flatten())\n",
        "  model.add(Dense(128, activation='relu'))\n",
        "  model.add(Dropout(0.))\n",
        "  model.add(Dense(10, activation='softmax'))\n",
        "\n",
        "\n",
        "  # Compile the model\n",
        "  model.compile(loss='categorical_crossentropy', optimizer=Adam, metrics=[\"accuracy\"])\n",
        "\n",
        "  return model\n",
        "# fix random seed for reproducibility\n",
        "seed = 1\n",
        "numpy.random.seed(seed)\n",
        "\n",
        "# create model\n",
        "model = KerasClassifier(build_fn=create_model, verbose=0)\n",
        "# define the grid search parameters\n",
        "space = dict()\n",
        "space['learning_rate'] = [0.001, 0.01, 0.1,1]\n",
        "space['beta_1'] = [0.5,0.7,0.9]\n",
        "space['beta_2'] = [0.8,0.9,0.999]\n",
        "space['batch_size'] = [32]\n",
        "space['epochs']=[50]\n",
        "\n",
        "\n",
        "grid = GridSearchCV(estimator=model, param_grid=space, n_jobs=-1, cv=3)\n",
        "grid_result = grid.fit(X_train, y_oh_train)\n",
        "\n",
        "# summarize results\n",
        "print(\"Best: %f using %s\" % (grid_result.best_score_, grid_result.best_params_))\n",
        "means = grid_result.cv_results_['mean_test_score']\n",
        "stds = grid_result.cv_results_['std_test_score']\n",
        "params = grid_result.cv_results_['params']\n",
        "for mean, stdev, param in zip(means, stds, params):\n",
        "    print(\"%f (%f) with: %r\" % (mean, stdev, param))\n",
        "\n",
        "\n",
        "\n"
      ],
      "execution_count": 28,
      "outputs": [
        {
          "output_type": "stream",
          "text": [
            "Best: 0.931233 using {'batch_size': 32, 'beta_1': 0.5, 'beta_2': 0.8, 'epochs': 50, 'learning_rate': 0.01}\n",
            "0.913736 (0.015977) with: {'batch_size': 32, 'beta_1': 0.5, 'beta_2': 0.8, 'epochs': 50, 'learning_rate': 0.001}\n",
            "0.931233 (0.014550) with: {'batch_size': 32, 'beta_1': 0.5, 'beta_2': 0.8, 'epochs': 50, 'learning_rate': 0.01}\n",
            "0.917472 (0.020201) with: {'batch_size': 32, 'beta_1': 0.5, 'beta_2': 0.8, 'epochs': 50, 'learning_rate': 0.1}\n",
            "0.911243 (0.015731) with: {'batch_size': 32, 'beta_1': 0.5, 'beta_2': 0.8, 'epochs': 50, 'learning_rate': 1}\n",
            "0.919992 (0.026391) with: {'batch_size': 32, 'beta_1': 0.5, 'beta_2': 0.9, 'epochs': 50, 'learning_rate': 0.001}\n",
            "0.914984 (0.015187) with: {'batch_size': 32, 'beta_1': 0.5, 'beta_2': 0.9, 'epochs': 50, 'learning_rate': 0.01}\n",
            "0.912483 (0.019511) with: {'batch_size': 32, 'beta_1': 0.5, 'beta_2': 0.9, 'epochs': 50, 'learning_rate': 0.1}\n",
            "0.923728 (0.019765) with: {'batch_size': 32, 'beta_1': 0.5, 'beta_2': 0.9, 'epochs': 50, 'learning_rate': 1}\n",
            "0.916223 (0.020499) with: {'batch_size': 32, 'beta_1': 0.5, 'beta_2': 0.999, 'epochs': 50, 'learning_rate': 0.001}\n",
            "0.914975 (0.015563) with: {'batch_size': 32, 'beta_1': 0.5, 'beta_2': 0.999, 'epochs': 50, 'learning_rate': 0.01}\n",
            "0.922494 (0.015726) with: {'batch_size': 32, 'beta_1': 0.5, 'beta_2': 0.999, 'epochs': 50, 'learning_rate': 0.1}\n",
            "0.914993 (0.004793) with: {'batch_size': 32, 'beta_1': 0.5, 'beta_2': 0.999, 'epochs': 50, 'learning_rate': 1}\n",
            "0.914989 (0.009935) with: {'batch_size': 32, 'beta_1': 0.7, 'beta_2': 0.8, 'epochs': 50, 'learning_rate': 0.001}\n",
            "0.920001 (0.010729) with: {'batch_size': 32, 'beta_1': 0.7, 'beta_2': 0.8, 'epochs': 50, 'learning_rate': 0.01}\n",
            "0.912492 (0.008912) with: {'batch_size': 32, 'beta_1': 0.7, 'beta_2': 0.8, 'epochs': 50, 'learning_rate': 0.1}\n",
            "0.913726 (0.014189) with: {'batch_size': 32, 'beta_1': 0.7, 'beta_2': 0.8, 'epochs': 50, 'learning_rate': 1}\n",
            "0.908737 (0.014215) with: {'batch_size': 32, 'beta_1': 0.7, 'beta_2': 0.9, 'epochs': 50, 'learning_rate': 0.001}\n",
            "0.904992 (0.017435) with: {'batch_size': 32, 'beta_1': 0.7, 'beta_2': 0.9, 'epochs': 50, 'learning_rate': 0.01}\n",
            "0.914989 (0.009935) with: {'batch_size': 32, 'beta_1': 0.7, 'beta_2': 0.9, 'epochs': 50, 'learning_rate': 0.1}\n",
            "0.904987 (0.014218) with: {'batch_size': 32, 'beta_1': 0.7, 'beta_2': 0.9, 'epochs': 50, 'learning_rate': 1}\n",
            "0.917486 (0.021468) with: {'batch_size': 32, 'beta_1': 0.7, 'beta_2': 0.999, 'epochs': 50, 'learning_rate': 0.001}\n",
            "0.914993 (0.007143) with: {'batch_size': 32, 'beta_1': 0.7, 'beta_2': 0.999, 'epochs': 50, 'learning_rate': 0.01}\n",
            "0.913736 (0.013433) with: {'batch_size': 32, 'beta_1': 0.7, 'beta_2': 0.999, 'epochs': 50, 'learning_rate': 0.1}\n",
            "0.909986 (0.011156) with: {'batch_size': 32, 'beta_1': 0.7, 'beta_2': 0.999, 'epochs': 50, 'learning_rate': 1}\n",
            "0.921254 (0.005232) with: {'batch_size': 32, 'beta_1': 0.9, 'beta_2': 0.8, 'epochs': 50, 'learning_rate': 0.001}\n",
            "0.928745 (0.005364) with: {'batch_size': 32, 'beta_1': 0.9, 'beta_2': 0.8, 'epochs': 50, 'learning_rate': 0.01}\n",
            "0.924990 (0.010667) with: {'batch_size': 32, 'beta_1': 0.9, 'beta_2': 0.8, 'epochs': 50, 'learning_rate': 0.1}\n",
            "0.916242 (0.008909) with: {'batch_size': 32, 'beta_1': 0.9, 'beta_2': 0.8, 'epochs': 50, 'learning_rate': 1}\n",
            "0.916237 (0.011680) with: {'batch_size': 32, 'beta_1': 0.9, 'beta_2': 0.9, 'epochs': 50, 'learning_rate': 0.001}\n",
            "0.911234 (0.023224) with: {'batch_size': 32, 'beta_1': 0.9, 'beta_2': 0.9, 'epochs': 50, 'learning_rate': 0.01}\n",
            "0.913745 (0.003197) with: {'batch_size': 32, 'beta_1': 0.9, 'beta_2': 0.9, 'epochs': 50, 'learning_rate': 0.1}\n",
            "0.909995 (0.020075) with: {'batch_size': 32, 'beta_1': 0.9, 'beta_2': 0.9, 'epochs': 50, 'learning_rate': 1}\n",
            "0.909976 (0.023991) with: {'batch_size': 32, 'beta_1': 0.9, 'beta_2': 0.999, 'epochs': 50, 'learning_rate': 0.001}\n",
            "0.923733 (0.019501) with: {'batch_size': 32, 'beta_1': 0.9, 'beta_2': 0.999, 'epochs': 50, 'learning_rate': 0.01}\n",
            "0.919987 (0.009463) with: {'batch_size': 32, 'beta_1': 0.9, 'beta_2': 0.999, 'epochs': 50, 'learning_rate': 0.1}\n",
            "0.918748 (0.016851) with: {'batch_size': 32, 'beta_1': 0.9, 'beta_2': 0.999, 'epochs': 50, 'learning_rate': 1}\n"
          ],
          "name": "stdout"
        }
      ]
    },
    {
      "cell_type": "code",
      "metadata": {
        "colab": {
          "base_uri": "https://localhost:8080/"
        },
        "id": "1jJCR8CR0Y9p",
        "outputId": "576e792a-8e74-4ab3-db79-8eb9ac0e6418"
      },
      "source": [
        "# Use scikit-learn to grid search the hyperparameter of Nadam (NAG)\n",
        "import numpy \n",
        "from tensorflow.keras.optimizers import Nadam\n",
        "from tensorflow.keras.optimizers import Adam\n",
        "from tensorflow.keras.optimizers import Adadelta\n",
        "from tensorflow.keras.models import Sequential\n",
        "from tensorflow.keras.layers import Dense, Dropout, Flatten\n",
        "from tensorflow.keras.layers import Conv2D, MaxPooling2D\n",
        "from sklearn.model_selection import GridSearchCV\n",
        "from keras.models import Sequential\n",
        "from keras.layers import Dense\n",
        "from keras.wrappers.scikit_learn import KerasClassifier\n",
        "\n",
        "Adam = Adam(learning_rate=0.001,beta_1=0.9,beta_2=0.999,epsilon=1e-07,amsgrad=False)\n",
        "Adadelta = Adadelta(learning_rate=0.001, rho=0.95, epsilon=1e-07)\n",
        "NAG = Nadam(learning_rate=0.001, beta_1=0.9, beta_2=0.999, epsilon=1e-07)\n",
        "\n",
        "# Function to create model, required for KerasClassifier\n",
        "def create_model(learning_rate=0.001, beta_1=0.9, beta_2=0.999):\n",
        "\t# create model\n",
        "  model = Sequential()\n",
        "  model.add(Conv2D(16, (3, 3), activation='relu', input_shape=(28, 28, 1)))\n",
        "  # Max pooling\n",
        "  model.add(MaxPooling2D(pool_size=(2, 2)))\n",
        "  model.add(Dropout(0.))\n",
        "  model.add(Conv2D(32, (3, 3), activation='relu'))\n",
        "  # Max pooling\n",
        "  model.add(MaxPooling2D(pool_size=(2, 2)))\n",
        "  model.add(Flatten())\n",
        "  model.add(Dense(128, activation='relu'))\n",
        "  model.add(Dropout(0.))\n",
        "  model.add(Dense(10, activation='softmax'))\n",
        "\n",
        "\n",
        "  # Compile the model\n",
        "  model.compile(loss='categorical_crossentropy', optimizer=NAG, metrics=[\"accuracy\"])\n",
        "\n",
        "  return model\n",
        "# fix random seed for reproducibility\n",
        "seed = 2\n",
        "numpy.random.seed(seed)\n",
        "\n",
        "# create model\n",
        "model = KerasClassifier(build_fn=create_model, verbose=0)\n",
        "# define the grid search parameters\n",
        "space = dict()\n",
        "space['learning_rate'] = [0.001, 0.01, 0.1,1]\n",
        "space['beta_1'] = [0.5,0.7,0.9]\n",
        "space['beta_2'] = [0.8,0.9,0.999]\n",
        "space['batch_size'] = [32]\n",
        "space['epochs']=[50]\n",
        "\n",
        "\n",
        "grid = GridSearchCV(estimator=model, param_grid=space, n_jobs=-1, cv=3)\n",
        "grid_result = grid.fit(X_train, y_oh_train)\n",
        "# summarize results\n",
        "print(\"Best: %f using %s\" % (grid_result.best_score_, grid_result.best_params_))\n",
        "means = grid_result.cv_results_['mean_test_score']\n",
        "stds = grid_result.cv_results_['std_test_score']\n",
        "params = grid_result.cv_results_['params']\n",
        "for mean, stdev, param in zip(means, stds, params):\n",
        "    print(\"%f (%f) with: %r\" % (mean, stdev, param))\n",
        "\n",
        "\n",
        "\n"
      ],
      "execution_count": 18,
      "outputs": [
        {
          "output_type": "stream",
          "text": [
            "Best: 0.925000 using {'batch_size': 32, 'beta_1': 0.9, 'beta_2': 0.8, 'epochs': 50, 'learning_rate': 1}\n",
            "0.921250 (0.015291) with: {'batch_size': 32, 'beta_1': 0.5, 'beta_2': 0.8, 'epochs': 50, 'learning_rate': 0.001}\n",
            "0.907489 (0.023800) with: {'batch_size': 32, 'beta_1': 0.5, 'beta_2': 0.8, 'epochs': 50, 'learning_rate': 0.01}\n",
            "0.914998 (0.004702) with: {'batch_size': 32, 'beta_1': 0.5, 'beta_2': 0.8, 'epochs': 50, 'learning_rate': 0.1}\n",
            "0.921240 (0.010671) with: {'batch_size': 32, 'beta_1': 0.5, 'beta_2': 0.8, 'epochs': 50, 'learning_rate': 1}\n",
            "0.916251 (0.019891) with: {'batch_size': 32, 'beta_1': 0.5, 'beta_2': 0.9, 'epochs': 50, 'learning_rate': 0.001}\n",
            "0.920006 (0.006997) with: {'batch_size': 32, 'beta_1': 0.5, 'beta_2': 0.9, 'epochs': 50, 'learning_rate': 0.01}\n",
            "0.914984 (0.009000) with: {'batch_size': 32, 'beta_1': 0.5, 'beta_2': 0.9, 'epochs': 50, 'learning_rate': 0.1}\n",
            "0.911243 (0.018717) with: {'batch_size': 32, 'beta_1': 0.5, 'beta_2': 0.9, 'epochs': 50, 'learning_rate': 1}\n",
            "0.921240 (0.022089) with: {'batch_size': 32, 'beta_1': 0.5, 'beta_2': 0.999, 'epochs': 50, 'learning_rate': 0.001}\n",
            "0.909990 (0.019146) with: {'batch_size': 32, 'beta_1': 0.5, 'beta_2': 0.999, 'epochs': 50, 'learning_rate': 0.01}\n",
            "0.909990 (0.016239) with: {'batch_size': 32, 'beta_1': 0.5, 'beta_2': 0.999, 'epochs': 50, 'learning_rate': 0.1}\n",
            "0.919997 (0.015409) with: {'batch_size': 32, 'beta_1': 0.5, 'beta_2': 0.999, 'epochs': 50, 'learning_rate': 1}\n",
            "0.918739 (0.015151) with: {'batch_size': 32, 'beta_1': 0.7, 'beta_2': 0.8, 'epochs': 50, 'learning_rate': 0.001}\n",
            "0.922498 (0.010752) with: {'batch_size': 32, 'beta_1': 0.7, 'beta_2': 0.8, 'epochs': 50, 'learning_rate': 0.01}\n",
            "0.923742 (0.011634) with: {'batch_size': 32, 'beta_1': 0.7, 'beta_2': 0.8, 'epochs': 50, 'learning_rate': 0.1}\n",
            "0.912501 (0.019891) with: {'batch_size': 32, 'beta_1': 0.7, 'beta_2': 0.8, 'epochs': 50, 'learning_rate': 1}\n",
            "0.913750 (0.012233) with: {'batch_size': 32, 'beta_1': 0.7, 'beta_2': 0.9, 'epochs': 50, 'learning_rate': 0.001}\n",
            "0.915003 (0.006327) with: {'batch_size': 32, 'beta_1': 0.7, 'beta_2': 0.9, 'epochs': 50, 'learning_rate': 0.01}\n",
            "0.907498 (0.001854) with: {'batch_size': 32, 'beta_1': 0.7, 'beta_2': 0.9, 'epochs': 50, 'learning_rate': 0.1}\n",
            "0.912492 (0.011642) with: {'batch_size': 32, 'beta_1': 0.7, 'beta_2': 0.9, 'epochs': 50, 'learning_rate': 1}\n",
            "0.916237 (0.016913) with: {'batch_size': 32, 'beta_1': 0.7, 'beta_2': 0.999, 'epochs': 50, 'learning_rate': 0.001}\n",
            "0.916233 (0.014568) with: {'batch_size': 32, 'beta_1': 0.7, 'beta_2': 0.999, 'epochs': 50, 'learning_rate': 0.01}\n",
            "0.911253 (0.015375) with: {'batch_size': 32, 'beta_1': 0.7, 'beta_2': 0.999, 'epochs': 50, 'learning_rate': 0.1}\n",
            "0.916233 (0.016942) with: {'batch_size': 32, 'beta_1': 0.7, 'beta_2': 0.999, 'epochs': 50, 'learning_rate': 1}\n",
            "0.912483 (0.012500) with: {'batch_size': 32, 'beta_1': 0.9, 'beta_2': 0.8, 'epochs': 50, 'learning_rate': 0.001}\n",
            "0.911248 (0.019905) with: {'batch_size': 32, 'beta_1': 0.9, 'beta_2': 0.8, 'epochs': 50, 'learning_rate': 0.01}\n",
            "0.916233 (0.014568) with: {'batch_size': 32, 'beta_1': 0.9, 'beta_2': 0.8, 'epochs': 50, 'learning_rate': 0.1}\n",
            "0.925000 (0.018349) with: {'batch_size': 32, 'beta_1': 0.9, 'beta_2': 0.8, 'epochs': 50, 'learning_rate': 1}\n",
            "0.919978 (0.012899) with: {'batch_size': 32, 'beta_1': 0.9, 'beta_2': 0.9, 'epochs': 50, 'learning_rate': 0.001}\n",
            "0.913745 (0.017052) with: {'batch_size': 32, 'beta_1': 0.9, 'beta_2': 0.9, 'epochs': 50, 'learning_rate': 0.01}\n",
            "0.916233 (0.016942) with: {'batch_size': 32, 'beta_1': 0.9, 'beta_2': 0.9, 'epochs': 50, 'learning_rate': 0.1}\n",
            "0.912487 (0.022596) with: {'batch_size': 32, 'beta_1': 0.9, 'beta_2': 0.9, 'epochs': 50, 'learning_rate': 1}\n",
            "0.909990 (0.010681) with: {'batch_size': 32, 'beta_1': 0.9, 'beta_2': 0.999, 'epochs': 50, 'learning_rate': 0.001}\n",
            "0.922489 (0.012436) with: {'batch_size': 32, 'beta_1': 0.9, 'beta_2': 0.999, 'epochs': 50, 'learning_rate': 0.01}\n",
            "0.916247 (0.012382) with: {'batch_size': 32, 'beta_1': 0.9, 'beta_2': 0.999, 'epochs': 50, 'learning_rate': 0.1}\n",
            "0.922484 (0.020431) with: {'batch_size': 32, 'beta_1': 0.9, 'beta_2': 0.999, 'epochs': 50, 'learning_rate': 1}\n"
          ],
          "name": "stdout"
        }
      ]
    },
    {
      "cell_type": "code",
      "metadata": {
        "colab": {
          "base_uri": "https://localhost:8080/"
        },
        "id": "zgIFvcwbjmgN",
        "outputId": "b286f9a6-2bb0-406e-b559-b5d20dfbe9af"
      },
      "source": [
        "# Use scikit-learn to grid search the hyperparameter of Adadelta \n",
        "import numpy \n",
        "from tensorflow.keras.optimizers import Nadam\n",
        "from tensorflow.keras.optimizers import Adam\n",
        "from tensorflow.keras.optimizers import Adadelta\n",
        "from tensorflow.keras.models import Sequential\n",
        "from tensorflow.keras.layers import Dense, Dropout, Flatten\n",
        "from tensorflow.keras.layers import Conv2D, MaxPooling2D\n",
        "from sklearn.model_selection import GridSearchCV\n",
        "from keras.models import Sequential\n",
        "from keras.layers import Dense\n",
        "from keras.wrappers.scikit_learn import KerasClassifier\n",
        "\n",
        "Adam = Adam(learning_rate=0.001,beta_1=0.9,beta_2=0.999,epsilon=1e-07,amsgrad=False)\n",
        "Adadelta = Adadelta(learning_rate=0.001, rho=0.95, epsilon=1e-07)\n",
        "NAG = Nadam(learning_rate=0.001, beta_1=0.9, beta_2=0.999, epsilon=1e-07)\n",
        "\n",
        "# Function to create model, required for KerasClassifier\n",
        "def create_model(learning_rate=0.001, rho=0.95):\n",
        "\t# create model\n",
        "  model = Sequential()\n",
        "  model.add(Conv2D(16, (3, 3), activation='relu', input_shape=(28, 28, 1)))\n",
        "  # Max pooling\n",
        "  model.add(MaxPooling2D(pool_size=(2, 2)))\n",
        "  model.add(Dropout(0.))\n",
        "  model.add(Conv2D(32, (3, 3), activation='relu'))\n",
        "  # Max pooling\n",
        "  model.add(MaxPooling2D(pool_size=(2, 2)))\n",
        "  model.add(Flatten())\n",
        "  model.add(Dense(128, activation='relu'))\n",
        "  model.add(Dropout(0.))\n",
        "  model.add(Dense(10, activation='softmax'))\n",
        "\n",
        "\n",
        "  # Compile the model\n",
        "  model.compile(loss='categorical_crossentropy', optimizer=Adadelta, metrics=[\"accuracy\"])\n",
        "\n",
        "  return model\n",
        "# fix random seed for reproducibility\n",
        "seed = 3\n",
        "numpy.random.seed(seed)\n",
        "\n",
        "# create model\n",
        "model = KerasClassifier(build_fn=create_model, verbose=0)\n",
        "# define the grid search parameters\n",
        "space = dict()\n",
        "space['learning_rate'] = [0.001, 0.01, 0.1,1]\n",
        "space['rho'] = [0.001, 0.01, 0.1,1]\n",
        "space['batch_size'] = [32]\n",
        "space['epochs']=[50]\n",
        "\n",
        "\n",
        "grid = GridSearchCV(estimator=model, param_grid=space, n_jobs=-1, cv=3)\n",
        "grid_result = grid.fit(X_train, y_oh_train)\n",
        "# summarize results\n",
        "print(\"Best: %f using %s\" % (grid_result.best_score_, grid_result.best_params_))\n",
        "means = grid_result.cv_results_['mean_test_score']\n",
        "stds = grid_result.cv_results_['std_test_score']\n",
        "params = grid_result.cv_results_['params']\n",
        "for mean, stdev, param in zip(means, stds, params):\n",
        "    print(\"%f (%f) with: %r\" % (mean, stdev, param))\n",
        "\n",
        "\n",
        "\n"
      ],
      "execution_count": 20,
      "outputs": [
        {
          "output_type": "stream",
          "text": [
            "Best: 0.191218 using {'batch_size': 32, 'epochs': 50, 'learning_rate': 0.1, 'rho': 1}\n",
            "0.142547 (0.026802) with: {'batch_size': 32, 'epochs': 50, 'learning_rate': 0.001, 'rho': 0.001}\n",
            "0.166291 (0.024093) with: {'batch_size': 32, 'epochs': 50, 'learning_rate': 0.001, 'rho': 0.01}\n",
            "0.122483 (0.024832) with: {'batch_size': 32, 'epochs': 50, 'learning_rate': 0.001, 'rho': 0.1}\n",
            "0.145063 (0.036177) with: {'batch_size': 32, 'epochs': 50, 'learning_rate': 0.001, 'rho': 1}\n",
            "0.133682 (0.042832) with: {'batch_size': 32, 'epochs': 50, 'learning_rate': 0.01, 'rho': 0.001}\n",
            "0.162527 (0.035582) with: {'batch_size': 32, 'epochs': 50, 'learning_rate': 0.01, 'rho': 0.01}\n",
            "0.148752 (0.007731) with: {'batch_size': 32, 'epochs': 50, 'learning_rate': 0.01, 'rho': 0.1}\n",
            "0.152568 (0.039080) with: {'batch_size': 32, 'epochs': 50, 'learning_rate': 0.01, 'rho': 1}\n",
            "0.111238 (0.011469) with: {'batch_size': 32, 'epochs': 50, 'learning_rate': 0.1, 'rho': 0.001}\n",
            "0.167432 (0.055441) with: {'batch_size': 32, 'epochs': 50, 'learning_rate': 0.1, 'rho': 0.01}\n",
            "0.159913 (0.057994) with: {'batch_size': 32, 'epochs': 50, 'learning_rate': 0.1, 'rho': 0.1}\n",
            "0.191218 (0.018310) with: {'batch_size': 32, 'epochs': 50, 'learning_rate': 0.1, 'rho': 1}\n",
            "0.163715 (0.043172) with: {'batch_size': 32, 'epochs': 50, 'learning_rate': 1, 'rho': 0.001}\n",
            "0.139980 (0.025549) with: {'batch_size': 32, 'epochs': 50, 'learning_rate': 1, 'rho': 0.01}\n",
            "0.093774 (0.023995) with: {'batch_size': 32, 'epochs': 50, 'learning_rate': 1, 'rho': 0.1}\n",
            "0.158716 (0.058294) with: {'batch_size': 32, 'epochs': 50, 'learning_rate': 1, 'rho': 1}\n"
          ],
          "name": "stdout"
        }
      ]
    },
    {
      "cell_type": "markdown",
      "metadata": {
        "id": "zg2NxRLmA-6z"
      },
      "source": [
        "\n",
        "* **Dropout**. Use the best optimizer and do hyper-parameter seach and find the best value for ```Dropout()```.\n",
        "\n",
        "ANS: From  the above output we know that the Adam optimizer has the highest accuracy score of 0.931233 with beta_1 = 0.5, beta_2 = 0.8, learning_rate = 0.01. I do a Grid Search below to search for the optimal dropout rate.\n",
        "\n",
        "\n",
        "The best value for the dropout rate is 0.4 with the improved accuracy score of 0.934997 while keeping beta_1 = 0.5, beta_2 = 0.8 and learning_rate = 0.01 unchanged.\n"
      ]
    },
    {
      "cell_type": "code",
      "metadata": {
        "colab": {
          "base_uri": "https://localhost:8080/"
        },
        "id": "bbhX-DZOmAE7",
        "outputId": "ca005f7b-8394-4b99-c5b9-0dab7453414b"
      },
      "source": [
        "# Use scikit-learn to grid search the dropout rate\r\n",
        "import numpy\r\n",
        "from sklearn.model_selection import GridSearchCV\r\n",
        "from keras.models import Sequential\r\n",
        "from keras.layers import Dense\r\n",
        "from keras.layers import Dropout\r\n",
        "from keras.wrappers.scikit_learn import KerasClassifier\r\n",
        "from keras.constraints import maxnorm\r\n",
        "\r\n",
        "# Function to create model, required for KerasClassifier\r\n",
        "def create_model(learning_rate=0.01, beta_1=0.5, beta_2=0.8, dropout_rate=0.):\r\n",
        "\t# create model\r\n",
        "  model = Sequential()\r\n",
        "  model.add(Conv2D(16, (3, 3), activation='relu', input_shape=(28, 28, 1)))\r\n",
        "  # Max pooling\r\n",
        "  model.add(MaxPooling2D(pool_size=(2, 2)))\r\n",
        "  model.add(Dropout(0.))\r\n",
        "  model.add(Conv2D(32, (3, 3), activation='relu'))\r\n",
        "  # Max pooling\r\n",
        "  model.add(MaxPooling2D(pool_size=(2, 2)))\r\n",
        "  model.add(Flatten())\r\n",
        "  model.add(Dense(128, activation='relu'))\r\n",
        "  model.add(Dropout(0.))\r\n",
        "  model.add(Dense(10, activation='softmax'))\r\n",
        "\r\n",
        "\r\n",
        "  # Compile the model\r\n",
        "  model.compile(loss='categorical_crossentropy', optimizer=Adam, metrics=[\"accuracy\"])\r\n",
        "\r\n",
        "  return model\r\n",
        "\r\n",
        "# fix random seed for reproducibility\r\n",
        "seed = 4\r\n",
        "numpy.random.seed(seed)\r\n",
        "\r\n",
        "# create model\r\n",
        "model = KerasClassifier(build_fn=create_model, verbose=0)\r\n",
        "\r\n",
        "# define the grid search parameters\r\n",
        "space = {}\r\n",
        "space['dropout_rate'] =  [0, 0.2, 0.4, 0.6, 0.8]\r\n",
        "space['learning_rate'] = [0.01]\r\n",
        "space['beta_1'] = [0.5]\r\n",
        "space['beta_2'] = [0.8]\r\n",
        "space['batch_size'] = [32]\r\n",
        "space['epochs']=[50]\r\n",
        "\r\n",
        "grid = GridSearchCV(estimator=model, param_grid=space, n_jobs=-1, cv=3)\r\n",
        "grid_result = grid.fit(X_train, y_oh_train)\r\n",
        "# summarize results\r\n",
        "print(\"Best: %f using %s\" % (grid_result.best_score_, grid_result.best_params_))\r\n",
        "means = grid_result.cv_results_['mean_test_score']\r\n",
        "stds = grid_result.cv_results_['std_test_score']\r\n",
        "params = grid_result.cv_results_['params']\r\n",
        "for mean, stdev, param in zip(means, stds, params):\r\n",
        "    print(\"%f (%f) with: %r\" % (mean, stdev, param))"
      ],
      "execution_count": 31,
      "outputs": [
        {
          "output_type": "stream",
          "text": [
            "Best: 0.934997 using {'batch_size': 32, 'beta_1': 0.5, 'beta_2': 0.8, 'dropout_rate': 0.4, 'epochs': 50, 'learning_rate': 0.01}\n",
            "0.929989 (0.009918) with: {'batch_size': 32, 'beta_1': 0.5, 'beta_2': 0.8, 'dropout_rate': 0, 'epochs': 50, 'learning_rate': 0.01}\n",
            "0.927501 (0.013782) with: {'batch_size': 32, 'beta_1': 0.5, 'beta_2': 0.8, 'dropout_rate': 0.2, 'epochs': 50, 'learning_rate': 0.01}\n",
            "0.934997 (0.009366) with: {'batch_size': 32, 'beta_1': 0.5, 'beta_2': 0.8, 'dropout_rate': 0.4, 'epochs': 50, 'learning_rate': 0.01}\n",
            "0.922484 (0.015179) with: {'batch_size': 32, 'beta_1': 0.5, 'beta_2': 0.8, 'dropout_rate': 0.6, 'epochs': 50, 'learning_rate': 0.01}\n",
            "0.919992 (0.014499) with: {'batch_size': 32, 'beta_1': 0.5, 'beta_2': 0.8, 'dropout_rate': 0.8, 'epochs': 50, 'learning_rate': 0.01}\n"
          ],
          "name": "stdout"
        }
      ]
    },
    {
      "cell_type": "markdown",
      "metadata": {
        "id": "o-3kyxI1l_DP"
      },
      "source": [
        "* **Best model**. Combine the what you learned from the above three questions to build the best model. How much better is it than the worst and average models?\r\n",
        "\r\n",
        "    ANS : As we see from above, the best model is the one with Adam optimizer:  beta_1 = 0.5, beta_2 = 0.8 and learning_rate = 0.01 and dropout rate = 0.4. This model has the best accuracy score of 0.934997. \r\n",
        "\r\n",
        "    The worst one is the model with Adadelta whose accuracy score is 0.191218. The average of these models are (0.931233 + 0.925000 + 0.191218 + 0.934997)/4 = 0.74561125.\r\n",
        "\r\n",
        "    Therefore, the best model is about 75% better than the worst one and 20% better than the averages. "
      ]
    },
    {
      "cell_type": "markdown",
      "metadata": {
        "id": "BSJZN-1xlUmN"
      },
      "source": [
        "\r\n",
        "\r\n",
        "* **Results on the test set**. When doing this search for good model configuration/hyper-parameter values, the data set was split into *two* parts: a training set and a test set (the term \"validation\" was used interchangably wiht \"test\"). For your final model, is the performance (i.e. accuracy) on the test set representative for the performance one would expect on a previously unseen data set (drawn from the same distribution)? Why?\r\n",
        "\r\n",
        "    ANS: \r\n",
        "    \r\n",
        "    In the following code, I modified the model and plot the loss and the val_loss again with the hyperparameters of the best model where beta_1 = 0.5, beta_2 = 0.8 and learning_rate = 0.01 and dropout rate = 0.4. As we can see from the output below that the model accuracy on the test set is improved from 0.93 to 0.96. \r\n",
        "\r\n",
        "    However, this final best model may not work as well as expected on a previous unseen dataset, even the dataset is drawn from the same distribution. In previous questions, the hyperparameters are tuned with the training set data and the model are trained with training set. The \"best\" hyperparameters found by Grid Search are based on the model performance/accuracy on training set. Then, we selected the best final model solely based on the output of Grid Search. This means those \"best hyperparameters\" and the \"best model\" are the best for training set and they are not necesscary the best for the test/validation set. We should evaluate the model on the test/validation set with the tuned hyperparameters again each time whenever we did a Grid Search. And then, we should select the best model based on the best performance/accuracy on the test/validation set instead of on the training set. \r\n",
        "\r\n",
        "    From the loss and val_loss graph below we can see that the val_loss is very unstable while the loss of train set is steadly decreasing. \r\n",
        "\r\n",
        "    Therefore, in this case, the \"best final model\" has the risk of overfitting on the training set and it may not be significantly representative for the performance on a strange dataset. \r\n",
        "\r\n",
        "\r\n"
      ]
    },
    {
      "cell_type": "code",
      "metadata": {
        "colab": {
          "base_uri": "https://localhost:8080/",
          "height": 1000
        },
        "id": "jLMMtUJ-nWlc",
        "outputId": "627f858b-b46b-4651-eea5-899c03be83e4"
      },
      "source": [
        "from tensorflow.keras.models import Sequential\r\n",
        "from tensorflow.keras.layers import Dense, Dropout, Flatten\r\n",
        "from tensorflow.keras.layers import Conv2D, MaxPooling2D\r\n",
        "from tensorflow.keras.optimizers import Adam\r\n",
        "\r\n",
        "model = Sequential()\r\n",
        "\r\n",
        "model.add(Conv2D(16, (3, 3), activation='relu', input_shape=(28, 28, 1)))\r\n",
        "# Max pooling\r\n",
        "model.add(MaxPooling2D(pool_size=(2, 2)))\r\n",
        "model.add(Dropout(0.4))\r\n",
        "\r\n",
        "model.add(Conv2D(32, (3, 3), activation='relu'))\r\n",
        "# Max pooling\r\n",
        "model.add(MaxPooling2D(pool_size=(2, 2)))\r\n",
        "model.add(Flatten())\r\n",
        "\r\n",
        "model.add(Dense(128, activation='relu'))\r\n",
        "model.add(Dropout(0.4))\r\n",
        "\r\n",
        "model.add(Dense(10, activation='softmax'))\r\n",
        "\r\n",
        "Adam = Adam(learning_rate=0.01,beta_1=0.5,beta_2=0.8,epsilon=1e-07,amsgrad=False)\r\n",
        "\r\n",
        "# Compile the model\r\n",
        "model.compile(loss='categorical_crossentropy', optimizer=Adam)\r\n",
        "\r\n",
        "# Train the model\r\n",
        "history = model.fit(X_train, y_oh_train, batch_size=32, epochs=50, validation_data=(X_test, y_oh_test))\r\n",
        "\r\n",
        "# Evaluate performance\r\n",
        "test_loss = model.evaluate(X_test, y_oh_test, batch_size=32)\r\n",
        "\r\n",
        "predictions = model.predict(X_test, batch_size=32)\r\n",
        "predictions = np.argmax(predictions, axis=1) # change encoding again\r\n",
        "print('Accuracy:', (predictions == y_test).sum() / predictions.shape[0])\r\n",
        "\r\n",
        "# Plot learning\r\n",
        "fig = plt.figure(figsize=(12,4))\r\n",
        "ax0 = fig.add_subplot(121)\r\n",
        "ax0.plot(history.history['val_loss'], label='validation loss')\r\n",
        "ax0.plot(history.history['loss'], label='training loss')\r\n",
        "ax0.set_ylabel('Loss')\r\n",
        "ax0.set_xlabel('Epoch')\r\n",
        "ax0.legend()"
      ],
      "execution_count": 32,
      "outputs": [
        {
          "output_type": "stream",
          "text": [
            "Epoch 1/50\n",
            "25/25 [==============================] - 1s 29ms/step - loss: 1.9620 - val_loss: 0.5396\n",
            "Epoch 2/50\n",
            "25/25 [==============================] - 1s 23ms/step - loss: 0.5469 - val_loss: 0.4167\n",
            "Epoch 3/50\n",
            "25/25 [==============================] - 1s 22ms/step - loss: 0.3733 - val_loss: 0.3332\n",
            "Epoch 4/50\n",
            "25/25 [==============================] - 1s 23ms/step - loss: 0.3256 - val_loss: 0.2690\n",
            "Epoch 5/50\n",
            "25/25 [==============================] - 1s 22ms/step - loss: 0.2423 - val_loss: 0.2224\n",
            "Epoch 6/50\n",
            "25/25 [==============================] - 1s 23ms/step - loss: 0.1714 - val_loss: 0.2703\n",
            "Epoch 7/50\n",
            "25/25 [==============================] - 1s 22ms/step - loss: 0.1625 - val_loss: 0.2806\n",
            "Epoch 8/50\n",
            "25/25 [==============================] - 1s 22ms/step - loss: 0.1436 - val_loss: 0.3186\n",
            "Epoch 9/50\n",
            "25/25 [==============================] - 1s 22ms/step - loss: 0.1007 - val_loss: 0.1951\n",
            "Epoch 10/50\n",
            "25/25 [==============================] - 1s 22ms/step - loss: 0.0977 - val_loss: 0.2702\n",
            "Epoch 11/50\n",
            "25/25 [==============================] - 1s 23ms/step - loss: 0.0732 - val_loss: 0.2175\n",
            "Epoch 12/50\n",
            "25/25 [==============================] - 1s 27ms/step - loss: 0.1772 - val_loss: 0.2255\n",
            "Epoch 13/50\n",
            "25/25 [==============================] - 1s 24ms/step - loss: 0.0669 - val_loss: 0.3063\n",
            "Epoch 14/50\n",
            "25/25 [==============================] - 1s 22ms/step - loss: 0.1402 - val_loss: 0.2856\n",
            "Epoch 15/50\n",
            "25/25 [==============================] - 1s 22ms/step - loss: 0.0691 - val_loss: 0.2973\n",
            "Epoch 16/50\n",
            "25/25 [==============================] - 1s 23ms/step - loss: 0.0817 - val_loss: 0.6316\n",
            "Epoch 17/50\n",
            "25/25 [==============================] - 1s 22ms/step - loss: 0.1267 - val_loss: 0.3448\n",
            "Epoch 18/50\n",
            "25/25 [==============================] - 1s 22ms/step - loss: 0.1155 - val_loss: 0.2470\n",
            "Epoch 19/50\n",
            "25/25 [==============================] - 1s 23ms/step - loss: 0.0553 - val_loss: 0.2071\n",
            "Epoch 20/50\n",
            "25/25 [==============================] - 1s 22ms/step - loss: 0.0882 - val_loss: 0.2395\n",
            "Epoch 21/50\n",
            "25/25 [==============================] - 1s 22ms/step - loss: 0.0464 - val_loss: 0.3634\n",
            "Epoch 22/50\n",
            "25/25 [==============================] - 1s 22ms/step - loss: 0.1257 - val_loss: 0.4139\n",
            "Epoch 23/50\n",
            "25/25 [==============================] - 1s 22ms/step - loss: 0.1080 - val_loss: 0.3234\n",
            "Epoch 24/50\n",
            "25/25 [==============================] - 1s 23ms/step - loss: 0.0469 - val_loss: 0.2971\n",
            "Epoch 25/50\n",
            "25/25 [==============================] - 1s 23ms/step - loss: 0.0690 - val_loss: 0.2414\n",
            "Epoch 26/50\n",
            "25/25 [==============================] - 1s 23ms/step - loss: 0.0502 - val_loss: 0.3879\n",
            "Epoch 27/50\n",
            "25/25 [==============================] - 1s 22ms/step - loss: 0.0574 - val_loss: 0.3431\n",
            "Epoch 28/50\n",
            "25/25 [==============================] - 1s 23ms/step - loss: 0.0813 - val_loss: 0.4010\n",
            "Epoch 29/50\n",
            "25/25 [==============================] - 1s 23ms/step - loss: 0.0944 - val_loss: 0.4872\n",
            "Epoch 30/50\n",
            "25/25 [==============================] - 1s 22ms/step - loss: 0.0926 - val_loss: 0.2677\n",
            "Epoch 31/50\n",
            "25/25 [==============================] - 1s 24ms/step - loss: 0.0911 - val_loss: 0.4110\n",
            "Epoch 32/50\n",
            "25/25 [==============================] - 1s 26ms/step - loss: 0.0460 - val_loss: 0.2774\n",
            "Epoch 33/50\n",
            "25/25 [==============================] - 1s 24ms/step - loss: 0.0560 - val_loss: 0.5786\n",
            "Epoch 34/50\n",
            "25/25 [==============================] - 1s 22ms/step - loss: 0.1071 - val_loss: 0.4297\n",
            "Epoch 35/50\n",
            "25/25 [==============================] - 1s 23ms/step - loss: 0.0367 - val_loss: 0.4476\n",
            "Epoch 36/50\n",
            "25/25 [==============================] - 1s 23ms/step - loss: 0.0661 - val_loss: 0.3022\n",
            "Epoch 37/50\n",
            "25/25 [==============================] - 1s 22ms/step - loss: 0.0448 - val_loss: 0.4308\n",
            "Epoch 38/50\n",
            "25/25 [==============================] - 1s 23ms/step - loss: 0.0769 - val_loss: 0.3597\n",
            "Epoch 39/50\n",
            "25/25 [==============================] - 1s 22ms/step - loss: 0.0513 - val_loss: 0.5548\n",
            "Epoch 40/50\n",
            "25/25 [==============================] - 1s 22ms/step - loss: 0.0663 - val_loss: 0.3917\n",
            "Epoch 41/50\n",
            "25/25 [==============================] - 1s 28ms/step - loss: 0.0877 - val_loss: 0.4091\n",
            "Epoch 42/50\n",
            "25/25 [==============================] - 1s 23ms/step - loss: 0.0233 - val_loss: 0.5054\n",
            "Epoch 43/50\n",
            "25/25 [==============================] - 1s 22ms/step - loss: 0.0830 - val_loss: 0.4251\n",
            "Epoch 44/50\n",
            "25/25 [==============================] - 1s 26ms/step - loss: 0.0699 - val_loss: 0.3184\n",
            "Epoch 45/50\n",
            "25/25 [==============================] - 1s 25ms/step - loss: 0.1073 - val_loss: 0.4423\n",
            "Epoch 46/50\n",
            "25/25 [==============================] - 1s 23ms/step - loss: 0.0784 - val_loss: 0.5067\n",
            "Epoch 47/50\n",
            "25/25 [==============================] - 1s 23ms/step - loss: 0.1368 - val_loss: 0.4503\n",
            "Epoch 48/50\n",
            "25/25 [==============================] - 1s 23ms/step - loss: 0.0377 - val_loss: 0.3674\n",
            "Epoch 49/50\n",
            "25/25 [==============================] - 1s 22ms/step - loss: 0.0914 - val_loss: 0.5504\n",
            "Epoch 50/50\n",
            "25/25 [==============================] - 1s 23ms/step - loss: 0.1130 - val_loss: 0.4016\n",
            "7/7 [==============================] - 0s 6ms/step - loss: 0.4016\n",
            "Accuracy: 0.96\n"
          ],
          "name": "stdout"
        },
        {
          "output_type": "execute_result",
          "data": {
            "text/plain": [
              "<matplotlib.legend.Legend at 0x7f6c1c26d0f0>"
            ]
          },
          "metadata": {
            "tags": []
          },
          "execution_count": 32
        },
        {
          "output_type": "display_data",
          "data": {
            "image/png": "[encoded data removed]",
            "text/plain": [
              "<Figure size 864x288 with 1 Axes>"
            ]
          },
          "metadata": {
            "tags": [],
            "needs_background": "light"
          }
        }
      ]
    },
    {
      "cell_type": "markdown",
      "metadata": {
        "id": "U8qfeXZenZ7N"
      },
      "source": [
        "## Further information\r\n",
        "For ideas about hyper-parameter tuning, take a look at the strategies described in the sklearn documentation under [model selection](https://scikit-learn.org/stable/model_selection.html), or in this [blog post](https://blog.tensorflow.org/2020/01/hyperparameter-tuning-with-keras-tuner.html) from TensorFlow. For a more thorough discussion about optimizers see [this video](https://www.youtube.com/watch?v=DiNzQP7kK-s) discussing the article [Descending through a Crowded Valley -- Benchmarking Deep Learning Optimizers](https://arxiv.org/abs/2007.01547).\r\n",
        "\r\n",
        "\r\n",
        "**Good luck!**"
      ]
    }
  ]
}